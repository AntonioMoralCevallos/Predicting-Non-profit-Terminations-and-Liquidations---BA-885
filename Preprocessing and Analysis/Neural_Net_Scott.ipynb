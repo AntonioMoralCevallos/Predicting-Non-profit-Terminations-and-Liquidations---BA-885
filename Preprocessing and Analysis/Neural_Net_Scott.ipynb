{
 "cells": [
  {
   "cell_type": "code",
   "execution_count": null,
   "id": "9393b6ab",
   "metadata": {},
   "outputs": [],
   "source": [
    "1+1"
   ]
  },
  {
   "cell_type": "code",
   "execution_count": 1,
   "id": "0925bcb2",
   "metadata": {},
   "outputs": [
    {
     "data": {
      "text/plain": [
       "0"
      ]
     },
     "execution_count": 1,
     "metadata": {},
     "output_type": "execute_result"
    }
   ],
   "source": [
    "1-1"
   ]
  },
  {
   "cell_type": "code",
   "execution_count": 38,
   "id": "cc4542a1",
   "metadata": {},
   "outputs": [
    {
     "data": {
      "text/plain": [
       "1"
      ]
     },
     "execution_count": 38,
     "metadata": {},
     "output_type": "execute_result"
    }
   ],
   "source": [
    "1"
   ]
  },
  {
   "cell_type": "code",
   "execution_count": 19,
   "id": "5ccff8a1",
   "metadata": {},
   "outputs": [],
   "source": [
    "# Imports\n",
    "import numpy as np\n",
    "import pandas as pd\n",
    "import matplotlib.pyplot as plt\n",
    "\n",
    "import tensorflow as tf\n",
    "from tensorflow import keras\n",
    "from tensorflow.keras import layers\n",
    "\n",
    "from sklearn.model_selection import train_test_split\n",
    "from sklearn.preprocessing import StandardScaler\n",
    "from sklearn.metrics import f1_score\n",
    "\n",
    "from sklearn.metrics import confusion_matrix\n",
    "from sklearn import metrics"
   ]
  },
  {
   "cell_type": "code",
   "execution_count": 20,
   "id": "42016859",
   "metadata": {},
   "outputs": [
    {
     "data": {
      "text/plain": [
       "('2.6.0', '2.6.0')"
      ]
     },
     "execution_count": 20,
     "metadata": {},
     "output_type": "execute_result"
    }
   ],
   "source": [
    "tf.__version__, keras.__version__"
   ]
  },
  {
   "cell_type": "code",
   "execution_count": 21,
   "id": "d0758e37",
   "metadata": {},
   "outputs": [
    {
     "data": {
      "text/html": [
       "<div>\n",
       "<style scoped>\n",
       "    .dataframe tbody tr th:only-of-type {\n",
       "        vertical-align: middle;\n",
       "    }\n",
       "\n",
       "    .dataframe tbody tr th {\n",
       "        vertical-align: top;\n",
       "    }\n",
       "\n",
       "    .dataframe thead th {\n",
       "        text-align: right;\n",
       "    }\n",
       "</style>\n",
       "<table border=\"1\" class=\"dataframe\">\n",
       "  <thead>\n",
       "    <tr style=\"text-align: right;\">\n",
       "      <th></th>\n",
       "      <th>ein</th>\n",
       "      <th>unrelbusinccd</th>\n",
       "      <th>initiationfees</th>\n",
       "      <th>grsrcptspublicuse</th>\n",
       "      <th>grsincmembers</th>\n",
       "      <th>grsincother</th>\n",
       "      <th>totcntrbgfts</th>\n",
       "      <th>totprgmrevnue</th>\n",
       "      <th>invstmntinc</th>\n",
       "      <th>txexmptbndsproceeds</th>\n",
       "      <th>...</th>\n",
       "      <th>nonpfreayr-1_8</th>\n",
       "      <th>nonpfreayr-1_9</th>\n",
       "      <th>nonpfreayr-1_11</th>\n",
       "      <th>nonpfreayr-1_12</th>\n",
       "      <th>nonpfreayr-1_13</th>\n",
       "      <th>nonpfreayr-1_14</th>\n",
       "      <th>nonpfreayr-1_15</th>\n",
       "      <th>y_term</th>\n",
       "      <th>y_liq</th>\n",
       "      <th>y_TL</th>\n",
       "    </tr>\n",
       "  </thead>\n",
       "  <tbody>\n",
       "    <tr>\n",
       "      <th>0</th>\n",
       "      <td>910454080</td>\n",
       "      <td>0</td>\n",
       "      <td>0</td>\n",
       "      <td>0</td>\n",
       "      <td>0</td>\n",
       "      <td>0</td>\n",
       "      <td>935508</td>\n",
       "      <td>120315</td>\n",
       "      <td>7456</td>\n",
       "      <td>19969</td>\n",
       "      <td>...</td>\n",
       "      <td>0</td>\n",
       "      <td>0</td>\n",
       "      <td>0</td>\n",
       "      <td>0</td>\n",
       "      <td>0</td>\n",
       "      <td>0</td>\n",
       "      <td>0</td>\n",
       "      <td>0</td>\n",
       "      <td>0</td>\n",
       "      <td>0</td>\n",
       "    </tr>\n",
       "    <tr>\n",
       "      <th>1</th>\n",
       "      <td>111966978</td>\n",
       "      <td>0</td>\n",
       "      <td>0</td>\n",
       "      <td>0</td>\n",
       "      <td>0</td>\n",
       "      <td>0</td>\n",
       "      <td>0</td>\n",
       "      <td>5050020</td>\n",
       "      <td>153784</td>\n",
       "      <td>0</td>\n",
       "      <td>...</td>\n",
       "      <td>0</td>\n",
       "      <td>0</td>\n",
       "      <td>0</td>\n",
       "      <td>0</td>\n",
       "      <td>0</td>\n",
       "      <td>0</td>\n",
       "      <td>0</td>\n",
       "      <td>0</td>\n",
       "      <td>0</td>\n",
       "      <td>0</td>\n",
       "    </tr>\n",
       "    <tr>\n",
       "      <th>2</th>\n",
       "      <td>420660491</td>\n",
       "      <td>0</td>\n",
       "      <td>0</td>\n",
       "      <td>0</td>\n",
       "      <td>0</td>\n",
       "      <td>0</td>\n",
       "      <td>2945</td>\n",
       "      <td>11440</td>\n",
       "      <td>489</td>\n",
       "      <td>0</td>\n",
       "      <td>...</td>\n",
       "      <td>0</td>\n",
       "      <td>0</td>\n",
       "      <td>0</td>\n",
       "      <td>0</td>\n",
       "      <td>0</td>\n",
       "      <td>0</td>\n",
       "      <td>0</td>\n",
       "      <td>0</td>\n",
       "      <td>0</td>\n",
       "      <td>0</td>\n",
       "    </tr>\n",
       "    <tr>\n",
       "      <th>3</th>\n",
       "      <td>530152390</td>\n",
       "      <td>1</td>\n",
       "      <td>220425</td>\n",
       "      <td>468101</td>\n",
       "      <td>0</td>\n",
       "      <td>0</td>\n",
       "      <td>411058</td>\n",
       "      <td>2668044</td>\n",
       "      <td>29316</td>\n",
       "      <td>0</td>\n",
       "      <td>...</td>\n",
       "      <td>0</td>\n",
       "      <td>0</td>\n",
       "      <td>0</td>\n",
       "      <td>0</td>\n",
       "      <td>0</td>\n",
       "      <td>0</td>\n",
       "      <td>0</td>\n",
       "      <td>0</td>\n",
       "      <td>0</td>\n",
       "      <td>0</td>\n",
       "    </tr>\n",
       "    <tr>\n",
       "      <th>4</th>\n",
       "      <td>561547207</td>\n",
       "      <td>0</td>\n",
       "      <td>0</td>\n",
       "      <td>0</td>\n",
       "      <td>0</td>\n",
       "      <td>0</td>\n",
       "      <td>75</td>\n",
       "      <td>735052</td>\n",
       "      <td>783</td>\n",
       "      <td>0</td>\n",
       "      <td>...</td>\n",
       "      <td>0</td>\n",
       "      <td>0</td>\n",
       "      <td>0</td>\n",
       "      <td>0</td>\n",
       "      <td>0</td>\n",
       "      <td>0</td>\n",
       "      <td>0</td>\n",
       "      <td>0</td>\n",
       "      <td>0</td>\n",
       "      <td>0</td>\n",
       "    </tr>\n",
       "  </tbody>\n",
       "</table>\n",
       "<p>5 rows × 545 columns</p>\n",
       "</div>"
      ],
      "text/plain": [
       "         ein  unrelbusinccd  initiationfees  grsrcptspublicuse  grsincmembers  \\\n",
       "0  910454080              0               0                  0              0   \n",
       "1  111966978              0               0                  0              0   \n",
       "2  420660491              0               0                  0              0   \n",
       "3  530152390              1          220425             468101              0   \n",
       "4  561547207              0               0                  0              0   \n",
       "\n",
       "   grsincother  totcntrbgfts  totprgmrevnue  invstmntinc  txexmptbndsproceeds  \\\n",
       "0            0        935508         120315         7456                19969   \n",
       "1            0             0        5050020       153784                    0   \n",
       "2            0          2945          11440          489                    0   \n",
       "3            0        411058        2668044        29316                    0   \n",
       "4            0            75         735052          783                    0   \n",
       "\n",
       "   ...  nonpfreayr-1_8  nonpfreayr-1_9  nonpfreayr-1_11  nonpfreayr-1_12  \\\n",
       "0  ...               0               0                0                0   \n",
       "1  ...               0               0                0                0   \n",
       "2  ...               0               0                0                0   \n",
       "3  ...               0               0                0                0   \n",
       "4  ...               0               0                0                0   \n",
       "\n",
       "   nonpfreayr-1_13  nonpfreayr-1_14  nonpfreayr-1_15  y_term  y_liq  y_TL  \n",
       "0                0                0                0       0      0     0  \n",
       "1                0                0                0       0      0     0  \n",
       "2                0                0                0       0      0     0  \n",
       "3                0                0                0       0      0     0  \n",
       "4                0                0                0       0      0     0  \n",
       "\n",
       "[5 rows x 545 columns]"
      ]
     },
     "execution_count": 21,
     "metadata": {},
     "output_type": "execute_result"
    }
   ],
   "source": [
    "df = pd.read_csv('all_yrs_processed.csv')\n",
    "df.head()"
   ]
  },
  {
   "cell_type": "code",
   "execution_count": 22,
   "id": "5abff6a1",
   "metadata": {},
   "outputs": [
    {
     "data": {
      "text/plain": [
       "(266387, 545)"
      ]
     },
     "execution_count": 22,
     "metadata": {},
     "output_type": "execute_result"
    }
   ],
   "source": [
    "df.shape"
   ]
  },
  {
   "cell_type": "code",
   "execution_count": 23,
   "id": "6faa88e8",
   "metadata": {},
   "outputs": [
    {
     "name": "stdout",
     "output_type": "stream",
     "text": [
      "(228181, 545)\n"
     ]
    },
    {
     "data": {
      "text/plain": [
       "((228181, 541), (228181, 3))"
      ]
     },
     "execution_count": 23,
     "metadata": {},
     "output_type": "execute_result"
    }
   ],
   "source": [
    "df = df.dropna()\n",
    "print(df.shape)\n",
    "\n",
    "y_cols = ['y_term', 'y_liq', 'y_TL']\n",
    "X = df.drop(columns = y_cols).drop(columns = 'ein')\n",
    "y = df[y_cols]\n",
    "\n",
    "y1 = y['y_TL'] # y1 - y full/partial \n",
    "yt = y['y_term'] # yt - y term (full termination)\n",
    "yl = y['y_liq']  # yl - y liquid (partial liquidation)\n",
    "\n",
    "X.shape, y.shape"
   ]
  },
  {
   "cell_type": "code",
   "execution_count": 24,
   "id": "c12c7414",
   "metadata": {},
   "outputs": [
    {
     "data": {
      "text/plain": [
       "(211, 330)"
      ]
     },
     "execution_count": 24,
     "metadata": {},
     "output_type": "execute_result"
    }
   ],
   "source": [
    "cat_cols = X.nunique()[X.nunique() <=2].index\n",
    "num_cols = X.nunique()[X.nunique() > 2].index\n",
    "\n",
    "len(cat_cols), len(num_cols)"
   ]
  },
  {
   "cell_type": "code",
   "execution_count": 25,
   "id": "45474f24",
   "metadata": {},
   "outputs": [
    {
     "name": "stderr",
     "output_type": "stream",
     "text": [
      "/opt/conda/lib/python3.7/site-packages/pandas/core/arraylike.py:364: RuntimeWarning: divide by zero encountered in log10\n",
      "  result = getattr(ufunc, method)(*inputs, **kwargs)\n",
      "/opt/conda/lib/python3.7/site-packages/pandas/core/arraylike.py:364: RuntimeWarning: invalid value encountered in log10\n",
      "  result = getattr(ufunc, method)(*inputs, **kwargs)\n"
     ]
    },
    {
     "data": {
      "text/html": [
       "<div>\n",
       "<style scoped>\n",
       "    .dataframe tbody tr th:only-of-type {\n",
       "        vertical-align: middle;\n",
       "    }\n",
       "\n",
       "    .dataframe tbody tr th {\n",
       "        vertical-align: top;\n",
       "    }\n",
       "\n",
       "    .dataframe thead th {\n",
       "        text-align: right;\n",
       "    }\n",
       "</style>\n",
       "<table border=\"1\" class=\"dataframe\">\n",
       "  <thead>\n",
       "    <tr style=\"text-align: right;\">\n",
       "      <th></th>\n",
       "      <th>unrelbusinccd</th>\n",
       "      <th>initiationfees</th>\n",
       "      <th>grsrcptspublicuse</th>\n",
       "      <th>grsincmembers</th>\n",
       "      <th>grsincother</th>\n",
       "      <th>totcntrbgfts</th>\n",
       "      <th>totprgmrevnue</th>\n",
       "      <th>invstmntinc</th>\n",
       "      <th>txexmptbndsproceeds</th>\n",
       "      <th>royaltsinc</th>\n",
       "      <th>...</th>\n",
       "      <th>nonpfreayr-1_5</th>\n",
       "      <th>nonpfreayr-1_6</th>\n",
       "      <th>nonpfreayr-1_7</th>\n",
       "      <th>nonpfreayr-1_8</th>\n",
       "      <th>nonpfreayr-1_9</th>\n",
       "      <th>nonpfreayr-1_11</th>\n",
       "      <th>nonpfreayr-1_12</th>\n",
       "      <th>nonpfreayr-1_13</th>\n",
       "      <th>nonpfreayr-1_14</th>\n",
       "      <th>nonpfreayr-1_15</th>\n",
       "    </tr>\n",
       "  </thead>\n",
       "  <tbody>\n",
       "    <tr>\n",
       "      <th>1</th>\n",
       "      <td>0.0</td>\n",
       "      <td>0.000000</td>\n",
       "      <td>0.000000</td>\n",
       "      <td>0.0</td>\n",
       "      <td>0.0</td>\n",
       "      <td>0.000000</td>\n",
       "      <td>6.703293</td>\n",
       "      <td>5.186911</td>\n",
       "      <td>0.0</td>\n",
       "      <td>0.000000</td>\n",
       "      <td>...</td>\n",
       "      <td>0.0</td>\n",
       "      <td>0.0</td>\n",
       "      <td>0.0</td>\n",
       "      <td>0.0</td>\n",
       "      <td>0.0</td>\n",
       "      <td>0.0</td>\n",
       "      <td>0.0</td>\n",
       "      <td>0.0</td>\n",
       "      <td>0.0</td>\n",
       "      <td>0.0</td>\n",
       "    </tr>\n",
       "    <tr>\n",
       "      <th>6</th>\n",
       "      <td>1.0</td>\n",
       "      <td>0.000000</td>\n",
       "      <td>0.000000</td>\n",
       "      <td>0.0</td>\n",
       "      <td>0.0</td>\n",
       "      <td>6.294340</td>\n",
       "      <td>6.774271</td>\n",
       "      <td>4.483887</td>\n",
       "      <td>0.0</td>\n",
       "      <td>4.683299</td>\n",
       "      <td>...</td>\n",
       "      <td>0.0</td>\n",
       "      <td>0.0</td>\n",
       "      <td>0.0</td>\n",
       "      <td>0.0</td>\n",
       "      <td>0.0</td>\n",
       "      <td>0.0</td>\n",
       "      <td>0.0</td>\n",
       "      <td>0.0</td>\n",
       "      <td>0.0</td>\n",
       "      <td>0.0</td>\n",
       "    </tr>\n",
       "    <tr>\n",
       "      <th>10</th>\n",
       "      <td>0.0</td>\n",
       "      <td>0.000000</td>\n",
       "      <td>0.000000</td>\n",
       "      <td>0.0</td>\n",
       "      <td>0.0</td>\n",
       "      <td>0.000000</td>\n",
       "      <td>5.529430</td>\n",
       "      <td>1.913814</td>\n",
       "      <td>0.0</td>\n",
       "      <td>0.000000</td>\n",
       "      <td>...</td>\n",
       "      <td>0.0</td>\n",
       "      <td>0.0</td>\n",
       "      <td>0.0</td>\n",
       "      <td>0.0</td>\n",
       "      <td>0.0</td>\n",
       "      <td>0.0</td>\n",
       "      <td>0.0</td>\n",
       "      <td>0.0</td>\n",
       "      <td>0.0</td>\n",
       "      <td>0.0</td>\n",
       "    </tr>\n",
       "    <tr>\n",
       "      <th>11</th>\n",
       "      <td>1.0</td>\n",
       "      <td>6.051747</td>\n",
       "      <td>5.339859</td>\n",
       "      <td>0.0</td>\n",
       "      <td>0.0</td>\n",
       "      <td>0.000000</td>\n",
       "      <td>6.483899</td>\n",
       "      <td>4.277128</td>\n",
       "      <td>0.0</td>\n",
       "      <td>0.000000</td>\n",
       "      <td>...</td>\n",
       "      <td>0.0</td>\n",
       "      <td>0.0</td>\n",
       "      <td>0.0</td>\n",
       "      <td>0.0</td>\n",
       "      <td>0.0</td>\n",
       "      <td>0.0</td>\n",
       "      <td>0.0</td>\n",
       "      <td>0.0</td>\n",
       "      <td>0.0</td>\n",
       "      <td>0.0</td>\n",
       "    </tr>\n",
       "    <tr>\n",
       "      <th>19</th>\n",
       "      <td>1.0</td>\n",
       "      <td>0.000000</td>\n",
       "      <td>0.000000</td>\n",
       "      <td>0.0</td>\n",
       "      <td>0.0</td>\n",
       "      <td>6.930669</td>\n",
       "      <td>6.842122</td>\n",
       "      <td>3.616476</td>\n",
       "      <td>0.0</td>\n",
       "      <td>0.000000</td>\n",
       "      <td>...</td>\n",
       "      <td>0.0</td>\n",
       "      <td>0.0</td>\n",
       "      <td>0.0</td>\n",
       "      <td>0.0</td>\n",
       "      <td>0.0</td>\n",
       "      <td>0.0</td>\n",
       "      <td>0.0</td>\n",
       "      <td>0.0</td>\n",
       "      <td>0.0</td>\n",
       "      <td>0.0</td>\n",
       "    </tr>\n",
       "  </tbody>\n",
       "</table>\n",
       "<p>5 rows × 541 columns</p>\n",
       "</div>"
      ],
      "text/plain": [
       "    unrelbusinccd  initiationfees  grsrcptspublicuse  grsincmembers  \\\n",
       "1             0.0        0.000000           0.000000            0.0   \n",
       "6             1.0        0.000000           0.000000            0.0   \n",
       "10            0.0        0.000000           0.000000            0.0   \n",
       "11            1.0        6.051747           5.339859            0.0   \n",
       "19            1.0        0.000000           0.000000            0.0   \n",
       "\n",
       "    grsincother  totcntrbgfts  totprgmrevnue  invstmntinc  \\\n",
       "1           0.0      0.000000       6.703293     5.186911   \n",
       "6           0.0      6.294340       6.774271     4.483887   \n",
       "10          0.0      0.000000       5.529430     1.913814   \n",
       "11          0.0      0.000000       6.483899     4.277128   \n",
       "19          0.0      6.930669       6.842122     3.616476   \n",
       "\n",
       "    txexmptbndsproceeds  royaltsinc  ...  nonpfreayr-1_5  nonpfreayr-1_6  \\\n",
       "1                   0.0    0.000000  ...             0.0             0.0   \n",
       "6                   0.0    4.683299  ...             0.0             0.0   \n",
       "10                  0.0    0.000000  ...             0.0             0.0   \n",
       "11                  0.0    0.000000  ...             0.0             0.0   \n",
       "19                  0.0    0.000000  ...             0.0             0.0   \n",
       "\n",
       "    nonpfreayr-1_7  nonpfreayr-1_8  nonpfreayr-1_9  nonpfreayr-1_11  \\\n",
       "1              0.0             0.0             0.0              0.0   \n",
       "6              0.0             0.0             0.0              0.0   \n",
       "10             0.0             0.0             0.0              0.0   \n",
       "11             0.0             0.0             0.0              0.0   \n",
       "19             0.0             0.0             0.0              0.0   \n",
       "\n",
       "    nonpfreayr-1_12  nonpfreayr-1_13  nonpfreayr-1_14  nonpfreayr-1_15  \n",
       "1               0.0              0.0              0.0              0.0  \n",
       "6               0.0              0.0              0.0              0.0  \n",
       "10              0.0              0.0              0.0              0.0  \n",
       "11              0.0              0.0              0.0              0.0  \n",
       "19              0.0              0.0              0.0              0.0  \n",
       "\n",
       "[5 rows x 541 columns]"
      ]
     },
     "execution_count": 25,
     "metadata": {},
     "output_type": "execute_result"
    }
   ],
   "source": [
    "# transfer to log df\n",
    "numeric_df = X.apply(lambda x: np.log10(x) if np.issubdtype(x.dtype, np.number) else x)\n",
    "numeric_df = numeric_df.replace(0,1)\n",
    "numeric_df[np.isfinite(numeric_df)==0]=0\n",
    "numeric_df.head()"
   ]
  },
  {
   "cell_type": "code",
   "execution_count": 26,
   "id": "505d42b3",
   "metadata": {},
   "outputs": [
    {
     "data": {
      "text/plain": [
       "((159726, 541), (68455, 541), (159726,), (68455,))"
      ]
     },
     "execution_count": 26,
     "metadata": {},
     "output_type": "execute_result"
    }
   ],
   "source": [
    "# Train-test split - reg\n",
    "X_train, X_test, y_train, y_test = train_test_split(X, y1, test_size=0.3) # 70% training and 30% test\n",
    "X_train.shape, X_test.shape, y_train.shape, y_test.shape"
   ]
  },
  {
   "cell_type": "code",
   "execution_count": 27,
   "id": "3ef33e64",
   "metadata": {},
   "outputs": [
    {
     "data": {
      "text/plain": [
       "((159726, 541), (68455, 541), (159726,), (68455,))"
      ]
     },
     "execution_count": 27,
     "metadata": {},
     "output_type": "execute_result"
    }
   ],
   "source": [
    "# Train-test split - log df\n",
    "X_train_log, X_test_log, y_train_log, y_test_log = train_test_split(numeric_df, y1, test_size=0.3) # 70% training and 30% test\n",
    "X_train_log.shape, X_test_log.shape, y_train_log.shape, y_test_log.shape"
   ]
  },
  {
   "cell_type": "code",
   "execution_count": 28,
   "id": "18e15d41",
   "metadata": {},
   "outputs": [
    {
     "name": "stderr",
     "output_type": "stream",
     "text": [
      "/opt/conda/lib/python3.7/site-packages/pandas/core/indexing.py:1884: SettingWithCopyWarning: \n",
      "A value is trying to be set on a copy of a slice from a DataFrame.\n",
      "Try using .loc[row_indexer,col_indexer] = value instead\n",
      "\n",
      "See the caveats in the documentation: https://pandas.pydata.org/pandas-docs/stable/user_guide/indexing.html#returning-a-view-versus-a-copy\n",
      "  self._setitem_single_column(loc, val, pi)\n",
      "/opt/conda/lib/python3.7/site-packages/pandas/core/indexing.py:1732: SettingWithCopyWarning: \n",
      "A value is trying to be set on a copy of a slice from a DataFrame\n",
      "\n",
      "See the caveats in the documentation: https://pandas.pydata.org/pandas-docs/stable/user_guide/indexing.html#returning-a-view-versus-a-copy\n",
      "  self._setitem_single_block(indexer, value, name)\n",
      "/opt/conda/lib/python3.7/site-packages/pandas/core/indexing.py:723: SettingWithCopyWarning: \n",
      "A value is trying to be set on a copy of a slice from a DataFrame\n",
      "\n",
      "See the caveats in the documentation: https://pandas.pydata.org/pandas-docs/stable/user_guide/indexing.html#returning-a-view-versus-a-copy\n",
      "  iloc._setitem_with_indexer(indexer, value, self.name)\n"
     ]
    }
   ],
   "source": [
    "# scale data\n",
    "\n",
    "means = np.mean(np.array(X_train[num_cols]), axis=0, keepdims=True)\n",
    "stds = np.std(np.array(X_train[num_cols]), axis=0, keepdims=True)\n",
    "\n",
    "X_train.loc[:,num_cols] = (X_train[num_cols]-means)/stds\n",
    "X_test.loc[:,num_cols] = (X_test[num_cols]-means)/stds\n",
    "\n",
    "means_log = np.mean(np.array(X_train_log[num_cols]), axis=0, keepdims=True)\n",
    "stds_log = np.std(np.array(X_train_log[num_cols]), axis=0, keepdims=True)\n",
    "\n",
    "X_train_log.loc[:,num_cols] = (X_train_log[num_cols]-means_log)/stds_log\n",
    "X_test_log.loc[:,num_cols] = (X_test_log[num_cols]-means_log)/stds_log"
   ]
  },
  {
   "cell_type": "code",
   "execution_count": null,
   "id": "663048b6",
   "metadata": {},
   "outputs": [],
   "source": [
    "# to csv:\n",
    "\n",
    "# X_train.append(X_test).to_csv('all_yrs_processed_andscaled.csv', index = False)"
   ]
  },
  {
   "cell_type": "code",
   "execution_count": null,
   "id": "9a498c39",
   "metadata": {},
   "outputs": [],
   "source": []
  },
  {
   "cell_type": "code",
   "execution_count": 29,
   "id": "7f8300ff",
   "metadata": {},
   "outputs": [],
   "source": [
    "class FullyConnected():\n",
    "  \"\"\" Eventually implement class \"\"\"\n",
    "\n",
    "  def __init__(self, model, X, y, bs, e, X_test,y_test, verbose = 1 ):         \n",
    "    self.model , self.X , self.y , self.bs , self.e , self.X_test, self.y_test, self.verbose =  model, X, y, bs, e,X_test, y_test,  verbose\n",
    "    \n",
    "\n",
    "  def train(self): \n",
    "    # train/validation split\n",
    "    self.X_train, self.X_valid, self.y_train, self.y_valid = train_test_split(self.X, self.y, test_size = 0.2) \n",
    "    print(self.X_train.shape, self.y_train.shape, self.X_valid.shape, self.X_test.shape)\n",
    "\n",
    "    # fit model\n",
    "    self.history = self.model.fit(x=self.X_train,\n",
    "                        y=self.y_train,\n",
    "                        batch_size=self.bs,\n",
    "                        epochs=self.e,\n",
    "                        verbose = self.verbose,\n",
    "                        validation_data=(self.X_valid, self.y_valid))\n",
    "    \n",
    "    # Training results\n",
    "    self.results = pd.DataFrame(self.history.history)\n",
    "    print(self.model.summary())\n",
    "\n",
    "  def eval(self):\n",
    "    # Plot training history \n",
    "    self.results.plot()\n",
    "    plt.title(\"Errors over time\")\n",
    "    plt.xlabel('Epochs')\n",
    "    plt.show()\n",
    "    \n",
    "    self.model.evaluate(self.X_test, self.y_test)\n",
    "\n",
    "    # Out-of-sample prediction\n",
    "    \n",
    "#     return model\n",
    "    \n",
    "#     self.y_hat = self.model.predict(self.X_test)\n",
    "    \n",
    "#     print(self.y_hat.shape)\n",
    "#     print(self.y_test.shape)\n",
    "#     self.accuracy = np.sum(self.y_hat == self.y_test) / len(self.y_hat)\n",
    "\n",
    "    \n",
    "#     print(self.y_test[0])\n",
    "#     print(self.y_hat[0])\n",
    "    \n",
    "#     self.cm = confusion_matrix(self.y_test, self.y_hat)\n",
    "#     print(self.cm)\n",
    "    \n",
    "\n",
    "    # Errors\n",
    "#     self.errs = (self.y_hat - self.y_test)\n",
    "#     self.errs.plot.hist(bins = np.arange(-4,4,0.5) )\n",
    "#     plt.title('Distribution of Absolute Errors')\n",
    "#     plt.show()\n",
    "\n",
    "#     print(f\"Test Accuracy: { self.accuracy.values[0]}  \\n Test F1: {self.f1}\")\n",
    "    \n",
    "#     return self.results\n",
    "#     return [self.results.iloc[-1]['root_mean_squared_error'], self.results.iloc[-1]['val_root_mean_squared_error'], self.rmse.values[0] ]\n",
    "\n",
    "# Initialize Results Dictionary\n",
    "# res_dict = {}\n",
    "\n",
    "# fully connected nn\n",
    "\n"
   ]
  },
  {
   "cell_type": "code",
   "execution_count": null,
   "id": "d98864a3",
   "metadata": {},
   "outputs": [],
   "source": []
  },
  {
   "cell_type": "code",
   "execution_count": 13,
   "id": "b64d5ec7",
   "metadata": {},
   "outputs": [
    {
     "name": "stderr",
     "output_type": "stream",
     "text": [
      "2021-08-25 11:29:39.653844: W tensorflow/stream_executor/platform/default/dso_loader.cc:64] Could not load dynamic library 'libcuda.so.1'; dlerror: libcuda.so.1: cannot open shared object file: No such file or directory\n",
      "2021-08-25 11:29:39.653915: W tensorflow/stream_executor/cuda/cuda_driver.cc:269] failed call to cuInit: UNKNOWN ERROR (303)\n",
      "2021-08-25 11:29:39.653949: I tensorflow/stream_executor/cuda/cuda_diagnostics.cc:156] kernel driver does not appear to be running on this host (python-20210724-160919): /proc/driver/nvidia/version does not exist\n",
      "2021-08-25 11:29:39.654510: I tensorflow/core/platform/cpu_feature_guard.cc:142] This TensorFlow binary is optimized with oneAPI Deep Neural Network Library (oneDNN) to use the following CPU instructions in performance-critical operations:  AVX2 FMA\n",
      "To enable them in other operations, rebuild TensorFlow with the appropriate compiler flags.\n"
     ]
    }
   ],
   "source": [
    "# fit model\n",
    "learning_rate=0.0001\n",
    "epochs=25\n",
    "my_batch_size=300\n",
    "\n",
    "model = tf.keras.models.Sequential()\n",
    "model.add(tf.keras.layers.Dense(units=10, activation=\"relu\")),\n",
    "model.add(tf.keras.layers.Dense(units=15, activation=\"relu\")),\n",
    "model.add(tf.keras.layers.Dense(1, activation='sigmoid'))\n",
    "model.compile(optimizer=tf.keras.optimizers.Adam(learning_rate=learning_rate),\n",
    "            loss='binary_crossentropy',\n",
    "            metrics=[tf.keras.metrics.AUC()])"
   ]
  },
  {
   "cell_type": "code",
   "execution_count": 36,
   "id": "2b1f8212",
   "metadata": {},
   "outputs": [],
   "source": [
    "mo = FullyConnected(model,X_train, y_train, my_batch_size,epochs, X_test, y_test )"
   ]
  },
  {
   "cell_type": "code",
   "execution_count": null,
   "id": "a4852e29",
   "metadata": {},
   "outputs": [],
   "source": []
  },
  {
   "cell_type": "code",
   "execution_count": null,
   "id": "bfc3e7e5",
   "metadata": {},
   "outputs": [
    {
     "name": "stdout",
     "output_type": "stream",
     "text": [
      "(127780, 541) (127780,) (31946, 541) (68455, 541)\n",
      "Epoch 1/30\n",
      "426/426 [==============================] - 2s 5ms/step - loss: 0.0694 - auc: 0.6877 - val_loss: 0.0701 - val_auc: 0.6837\n",
      "Epoch 2/30\n",
      "399/426 [===========================>..] - ETA: 0s - loss: 0.0691 - auc: 0.6878"
     ]
    }
   ],
   "source": [
    "mo.train()"
   ]
  },
  {
   "cell_type": "code",
   "execution_count": null,
   "id": "0b21ca1a",
   "metadata": {},
   "outputs": [],
   "source": [
    "mo.eval()"
   ]
  },
  {
   "cell_type": "code",
   "execution_count": null,
   "id": "faff7aab",
   "metadata": {},
   "outputs": [],
   "source": [
    "# q = mo.eval()"
   ]
  },
  {
   "cell_type": "code",
   "execution_count": 26,
   "id": "7919cdf5",
   "metadata": {},
   "outputs": [
    {
     "data": {
      "text/plain": [
       "array([[0.00361684],\n",
       "       [0.00779808],\n",
       "       [0.00623566],\n",
       "       ...,\n",
       "       [0.01287872],\n",
       "       [0.03143376],\n",
       "       [0.01240116]], dtype=float32)"
      ]
     },
     "execution_count": 26,
     "metadata": {},
     "output_type": "execute_result"
    }
   ],
   "source": [
    "q.predict(mo.X_test)"
   ]
  },
  {
   "cell_type": "code",
   "execution_count": 30,
   "id": "5bf11377",
   "metadata": {},
   "outputs": [],
   "source": [
    "def build_model(learning_rate, sizes):\n",
    "    model = tf.keras.models.Sequential()\n",
    "    for s in sizes:\n",
    "        model.add(tf.keras.layers.Dense(units=s, activation=\"relu\"))\n",
    "        \n",
    "    model.add(tf.keras.layers.Dense(1, activation='sigmoid'))\n",
    "    model.compile(optimizer=tf.keras.optimizers.Adam(learning_rate=learning_rate),\n",
    "                loss='binary_crossentropy',\n",
    "                metrics=[tf.keras.metrics.AUC()])\n",
    "\n",
    "    return model\n",
    "\n",
    "def train_model(model, feature, label, val_feature, val_label, epochs, batch_size):\n",
    "    history = model.fit(x=feature,\n",
    "                      y=label,\n",
    "                      validation_data=(val_feature, val_label),\n",
    "                      batch_size=batch_size,\n",
    "                      epochs=epochs)\n",
    "    \n",
    "\n",
    "    trained_weight = model.get_weights()[0]\n",
    "    trained_bias = model.get_weights()[1]\n",
    "\n",
    "    epochs = history.epoch\n",
    "    hist = pd.DataFrame(history.history)\n",
    "\n",
    "\n",
    "    return trained_weight, trained_bias, epochs, hist"
   ]
  },
  {
   "cell_type": "code",
   "execution_count": null,
   "id": "b44642f4",
   "metadata": {},
   "outputs": [],
   "source": []
  },
  {
   "cell_type": "code",
   "execution_count": null,
   "id": "8272e89c",
   "metadata": {},
   "outputs": [],
   "source": [
    "# fit model\n",
    "learning_rate=0.0001\n",
    "epochs=25\n",
    "my_batch_size=300\n",
    "hidden_sizes2 = [10,10, 2]\n",
    "NN_2HL2 = build_model(learning_rate, hidden_sizes2)\n",
    "trained_weight2, trained_bias2, epochs2, hist2 = train_model(NN_2HL2, X_input, y_input, X_val, y_val, epochs, my_batch_size)"
   ]
  },
  {
   "cell_type": "code",
   "execution_count": null,
   "id": "fdd646cd",
   "metadata": {},
   "outputs": [],
   "source": [
    "NN_2HL2.evaluate(X_test, y_test)"
   ]
  },
  {
   "cell_type": "code",
   "execution_count": null,
   "id": "08c960c7",
   "metadata": {},
   "outputs": [],
   "source": [
    "hist2.plot()"
   ]
  },
  {
   "cell_type": "code",
   "execution_count": null,
   "id": "d0b272ee",
   "metadata": {},
   "outputs": [],
   "source": []
  },
  {
   "cell_type": "code",
   "execution_count": null,
   "id": "b57a53c5",
   "metadata": {},
   "outputs": [],
   "source": []
  },
  {
   "cell_type": "code",
   "execution_count": 31,
   "id": "326e2310",
   "metadata": {},
   "outputs": [],
   "source": [
    "# Train-valid split\n",
    "X_input, X_val, y_input, y_val = train_test_split(X_train, y_train, test_size=0.2)"
   ]
  },
  {
   "cell_type": "code",
   "execution_count": 32,
   "id": "ca793791",
   "metadata": {},
   "outputs": [],
   "source": [
    "def build_model(learning_rate, sizes):\n",
    "    model = tf.keras.models.Sequential()\n",
    "    for s in sizes:\n",
    "        model.add(tf.keras.layers.Dense(units=s, activation=\"relu\"))\n",
    "        \n",
    "    model.add(tf.keras.layers.Dense(1, activation='sigmoid'))\n",
    "    model.compile(optimizer=tf.keras.optimizers.Adam(learning_rate=learning_rate),\n",
    "                loss='binary_crossentropy',\n",
    "                metrics=[tf.keras.metrics.AUC()])\n",
    "\n",
    "    return model"
   ]
  },
  {
   "cell_type": "code",
   "execution_count": null,
   "id": "597bc949",
   "metadata": {},
   "outputs": [
    {
     "name": "stdout",
     "output_type": "stream",
     "text": [
      "Epoch 1/30\n",
      "426/426 [==============================] - 3s 4ms/step - loss: 0.3999 - auc_1: 0.5117 - val_loss: 0.1272 - val_auc_1: 0.5102\n",
      "Epoch 2/30\n",
      "426/426 [==============================] - 1s 3ms/step - loss: 0.0957 - auc_1: 0.5079 - val_loss: 0.0798 - val_auc_1: 0.5111\n",
      "Epoch 3/30\n",
      "426/426 [==============================] - 1s 3ms/step - loss: 0.0813 - auc_1: 0.5152 - val_loss: 0.0753 - val_auc_1: 0.5240\n",
      "Epoch 4/30\n",
      "426/426 [==============================] - 1s 3ms/step - loss: 0.0777 - auc_1: 0.5416 - val_loss: 0.0733 - val_auc_1: 0.5474\n",
      "Epoch 5/30\n",
      "426/426 [==============================] - 1s 3ms/step - loss: 0.0756 - auc_1: 0.5671 - val_loss: 0.0721 - val_auc_1: 0.5631\n",
      "Epoch 6/30\n",
      "222/426 [==============>...............] - ETA: 0s - loss: 0.0737 - auc_1: 0.5859"
     ]
    }
   ],
   "source": [
    "# fit model\n",
    "learning_rate=0.0001\n",
    "epochs=30\n",
    "my_batch_size=300\n",
    "hidden_sizes3 = [20,15,10, 5]\n",
    "NN_2HL3 = build_model(learning_rate, hidden_sizes3)\n",
    "trained_weight3, trained_bias3, epochs3, hist3 = train_model(NN_2HL3, X_input, y_input, X_val, y_val, epochs, my_batch_size)"
   ]
  },
  {
   "cell_type": "code",
   "execution_count": null,
   "id": "bba664a2",
   "metadata": {},
   "outputs": [],
   "source": [
    "NN_2HL3.evaluate(X_test, y_test)"
   ]
  },
  {
   "cell_type": "code",
   "execution_count": null,
   "id": "c1e70230",
   "metadata": {},
   "outputs": [],
   "source": [
    "hist3.plot()"
   ]
  },
  {
   "cell_type": "code",
   "execution_count": null,
   "id": "7134b874",
   "metadata": {},
   "outputs": [],
   "source": []
  },
  {
   "cell_type": "code",
   "execution_count": null,
   "id": "be3d7a25",
   "metadata": {},
   "outputs": [],
   "source": []
  },
  {
   "cell_type": "code",
   "execution_count": null,
   "id": "5e0277d3",
   "metadata": {},
   "outputs": [],
   "source": []
  },
  {
   "cell_type": "code",
   "execution_count": null,
   "id": "ed99a3c2",
   "metadata": {},
   "outputs": [],
   "source": []
  },
  {
   "cell_type": "code",
   "execution_count": null,
   "id": "a1a6d3d9",
   "metadata": {},
   "outputs": [],
   "source": []
  },
  {
   "cell_type": "code",
   "execution_count": null,
   "id": "aac2c653",
   "metadata": {},
   "outputs": [],
   "source": []
  },
  {
   "cell_type": "code",
   "execution_count": null,
   "id": "4da00d89",
   "metadata": {},
   "outputs": [],
   "source": []
  },
  {
   "cell_type": "code",
   "execution_count": null,
   "id": "a5c2ddd0",
   "metadata": {},
   "outputs": [],
   "source": []
  },
  {
   "cell_type": "code",
   "execution_count": null,
   "id": "71d4265a",
   "metadata": {},
   "outputs": [],
   "source": []
  },
  {
   "cell_type": "code",
   "execution_count": null,
   "id": "6171e4a4",
   "metadata": {},
   "outputs": [],
   "source": []
  },
  {
   "cell_type": "code",
   "execution_count": null,
   "id": "40d7e0ca",
   "metadata": {},
   "outputs": [],
   "source": []
  },
  {
   "cell_type": "code",
   "execution_count": null,
   "id": "30401f17",
   "metadata": {},
   "outputs": [],
   "source": [
    "# Hyperparameters:\n",
    "lr = .01\n",
    "epochs = 30\n",
    "batch_size = 300\n",
    "\n",
    "# Build Model:\n",
    "model = tf.keras.models.Sequential()\n",
    "model.add(tf.keras.layers.Dense(units=60, input_shape=(541,)))\n",
    "model.add(tf.keras.layers.Dense(units=80))\n",
    "model.add(tf.keras.layers.Dense(units=10))\n",
    "model.add(tf.keras.layers.Dense(units=2, activation = 'sigmoid'))\n",
    "\n",
    "model.compile(optimizer=tf.keras.optimizers.Adam(learning_rate=lr), \n",
    "              loss='binary_crossentropy',\n",
    "              metrics=[tf.keras.metrics.AUC()])\n",
    "\n",
    "model.summary()\n",
    "\n"
   ]
  },
  {
   "cell_type": "code",
   "execution_count": null,
   "id": "799cd4a0",
   "metadata": {},
   "outputs": [],
   "source": [
    "X_train.shape"
   ]
  },
  {
   "cell_type": "code",
   "execution_count": null,
   "id": "9411db9a",
   "metadata": {},
   "outputs": [],
   "source": [
    "y_train.shape"
   ]
  },
  {
   "cell_type": "code",
   "execution_count": null,
   "id": "e189896d",
   "metadata": {},
   "outputs": [],
   "source": [
    "y_train = np.asarray(y_train).astype('float32').reshape((-1,1))\n",
    "y_test = np.asarray(y_test).astype('float32').reshape((-1,1))"
   ]
  },
  {
   "cell_type": "code",
   "execution_count": null,
   "id": "748099d8",
   "metadata": {},
   "outputs": [],
   "source": [
    "y_train.shape"
   ]
  },
  {
   "cell_type": "code",
   "execution_count": null,
   "id": "bb8a8572",
   "metadata": {},
   "outputs": [],
   "source": [
    "\n",
    "# fit model\n",
    "history = model.fit(x=X_train,\n",
    "                    y=y_train,\n",
    "                    batch_size=batch_size,\n",
    "                    epochs=epochs,\n",
    "                    verbose = True,\n",
    "                    validation_split=0.2)"
   ]
  },
  {
   "cell_type": "code",
   "execution_count": null,
   "id": "a8583b75",
   "metadata": {},
   "outputs": [],
   "source": []
  }
 ],
 "metadata": {
  "environment": {
   "name": "common-cpu.m75",
   "type": "gcloud",
   "uri": "gcr.io/deeplearning-platform-release/base-cpu:m75"
  },
  "kernelspec": {
   "display_name": "Python [conda env:root] *",
   "language": "python",
   "name": "conda-root-py"
  },
  "language_info": {
   "codemirror_mode": {
    "name": "ipython",
    "version": 3
   },
   "file_extension": ".py",
   "mimetype": "text/x-python",
   "name": "python",
   "nbconvert_exporter": "python",
   "pygments_lexer": "ipython3",
   "version": "3.7.10"
  }
 },
 "nbformat": 4,
 "nbformat_minor": 5
}
