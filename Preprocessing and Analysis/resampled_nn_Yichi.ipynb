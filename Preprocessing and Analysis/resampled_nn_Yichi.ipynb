{
 "cells": [
  {
   "cell_type": "code",
   "execution_count": 1,
   "id": "f0883f1d",
   "metadata": {},
   "outputs": [
    {
     "name": "stdout",
     "output_type": "stream",
     "text": [
      "Requirement already satisfied: imblearn in /opt/conda/lib/python3.7/site-packages (0.0)\n",
      "Requirement already satisfied: imbalanced-learn in /opt/conda/lib/python3.7/site-packages (from imblearn) (0.8.0)\n",
      "Requirement already satisfied: numpy>=1.13.3 in /opt/conda/lib/python3.7/site-packages (from imbalanced-learn->imblearn) (1.19.5)\n",
      "Requirement already satisfied: scikit-learn>=0.24 in /opt/conda/lib/python3.7/site-packages (from imbalanced-learn->imblearn) (0.24.2)\n",
      "Requirement already satisfied: scipy>=0.19.1 in /opt/conda/lib/python3.7/site-packages (from imbalanced-learn->imblearn) (1.7.0)\n",
      "Requirement already satisfied: joblib>=0.11 in /opt/conda/lib/python3.7/site-packages (from imbalanced-learn->imblearn) (1.0.1)\n",
      "Requirement already satisfied: threadpoolctl>=2.0.0 in /opt/conda/lib/python3.7/site-packages (from scikit-learn>=0.24->imbalanced-learn->imblearn) (2.2.0)\n"
     ]
    }
   ],
   "source": [
    "! pip install imblearn"
   ]
  },
  {
   "cell_type": "code",
   "execution_count": 2,
   "id": "990dec60",
   "metadata": {},
   "outputs": [
    {
     "name": "stdout",
     "output_type": "stream",
     "text": [
      "Requirement already satisfied: tensorflow in /opt/conda/lib/python3.7/site-packages (2.6.0)\n",
      "Requirement already satisfied: wheel~=0.35 in /opt/conda/lib/python3.7/site-packages (from tensorflow) (0.36.2)\n",
      "Requirement already satisfied: absl-py~=0.10 in /opt/conda/lib/python3.7/site-packages (from tensorflow) (0.13.0)\n",
      "Requirement already satisfied: protobuf>=3.9.2 in /opt/conda/lib/python3.7/site-packages (from tensorflow) (3.16.0)\n",
      "Requirement already satisfied: astunparse~=1.6.3 in /opt/conda/lib/python3.7/site-packages (from tensorflow) (1.6.3)\n",
      "Requirement already satisfied: termcolor~=1.1.0 in /opt/conda/lib/python3.7/site-packages (from tensorflow) (1.1.0)\n",
      "Requirement already satisfied: google-pasta~=0.2 in /opt/conda/lib/python3.7/site-packages (from tensorflow) (0.2.0)\n",
      "Requirement already satisfied: tensorboard~=2.6 in /opt/conda/lib/python3.7/site-packages (from tensorflow) (2.6.0)\n",
      "Requirement already satisfied: numpy~=1.19.2 in /opt/conda/lib/python3.7/site-packages (from tensorflow) (1.19.5)\n",
      "Requirement already satisfied: flatbuffers~=1.12.0 in /opt/conda/lib/python3.7/site-packages (from tensorflow) (1.12)\n",
      "Requirement already satisfied: six~=1.15.0 in /opt/conda/lib/python3.7/site-packages (from tensorflow) (1.15.0)\n",
      "Requirement already satisfied: tensorflow-estimator~=2.6 in /opt/conda/lib/python3.7/site-packages (from tensorflow) (2.6.0)\n",
      "Requirement already satisfied: h5py~=3.1.0 in /opt/conda/lib/python3.7/site-packages (from tensorflow) (3.1.0)\n",
      "Requirement already satisfied: keras~=2.6 in /opt/conda/lib/python3.7/site-packages (from tensorflow) (2.6.0)\n",
      "Requirement already satisfied: clang~=5.0 in /opt/conda/lib/python3.7/site-packages (from tensorflow) (5.0)\n",
      "Requirement already satisfied: keras-preprocessing~=1.1.2 in /opt/conda/lib/python3.7/site-packages (from tensorflow) (1.1.2)\n",
      "Requirement already satisfied: typing-extensions~=3.7.4 in /opt/conda/lib/python3.7/site-packages (from tensorflow) (3.7.4.3)\n",
      "Requirement already satisfied: opt-einsum~=3.3.0 in /opt/conda/lib/python3.7/site-packages (from tensorflow) (3.3.0)\n",
      "Requirement already satisfied: wrapt~=1.12.1 in /opt/conda/lib/python3.7/site-packages (from tensorflow) (1.12.1)\n",
      "Requirement already satisfied: grpcio<2.0,>=1.37.0 in /opt/conda/lib/python3.7/site-packages (from tensorflow) (1.38.1)\n",
      "Requirement already satisfied: gast==0.4.0 in /opt/conda/lib/python3.7/site-packages (from tensorflow) (0.4.0)\n",
      "Requirement already satisfied: cached-property in /opt/conda/lib/python3.7/site-packages (from h5py~=3.1.0->tensorflow) (1.5.2)\n",
      "Requirement already satisfied: requests<3,>=2.21.0 in /opt/conda/lib/python3.7/site-packages (from tensorboard~=2.6->tensorflow) (2.25.1)\n",
      "Requirement already satisfied: werkzeug>=0.11.15 in /opt/conda/lib/python3.7/site-packages (from tensorboard~=2.6->tensorflow) (2.0.1)\n",
      "Requirement already satisfied: google-auth-oauthlib<0.5,>=0.4.1 in /opt/conda/lib/python3.7/site-packages (from tensorboard~=2.6->tensorflow) (0.4.4)\n",
      "Requirement already satisfied: markdown>=2.6.8 in /opt/conda/lib/python3.7/site-packages (from tensorboard~=2.6->tensorflow) (3.3.4)\n",
      "Requirement already satisfied: setuptools>=41.0.0 in /opt/conda/lib/python3.7/site-packages (from tensorboard~=2.6->tensorflow) (49.6.0.post20210108)\n",
      "Requirement already satisfied: google-auth<2,>=1.6.3 in /opt/conda/lib/python3.7/site-packages (from tensorboard~=2.6->tensorflow) (1.32.1)\n",
      "Requirement already satisfied: tensorboard-data-server<0.7.0,>=0.6.0 in /opt/conda/lib/python3.7/site-packages (from tensorboard~=2.6->tensorflow) (0.6.1)\n",
      "Requirement already satisfied: tensorboard-plugin-wit>=1.6.0 in /opt/conda/lib/python3.7/site-packages (from tensorboard~=2.6->tensorflow) (1.8.0)\n",
      "Requirement already satisfied: rsa<5,>=3.1.4 in /opt/conda/lib/python3.7/site-packages (from google-auth<2,>=1.6.3->tensorboard~=2.6->tensorflow) (4.7.2)\n",
      "Requirement already satisfied: pyasn1-modules>=0.2.1 in /opt/conda/lib/python3.7/site-packages (from google-auth<2,>=1.6.3->tensorboard~=2.6->tensorflow) (0.2.7)\n",
      "Requirement already satisfied: cachetools<5.0,>=2.0.0 in /opt/conda/lib/python3.7/site-packages (from google-auth<2,>=1.6.3->tensorboard~=2.6->tensorflow) (4.2.2)\n",
      "Requirement already satisfied: requests-oauthlib>=0.7.0 in /opt/conda/lib/python3.7/site-packages (from google-auth-oauthlib<0.5,>=0.4.1->tensorboard~=2.6->tensorflow) (1.3.0)\n",
      "Requirement already satisfied: importlib-metadata in /opt/conda/lib/python3.7/site-packages (from markdown>=2.6.8->tensorboard~=2.6->tensorflow) (3.10.1)\n",
      "Requirement already satisfied: pyasn1<0.5.0,>=0.4.6 in /opt/conda/lib/python3.7/site-packages (from pyasn1-modules>=0.2.1->google-auth<2,>=1.6.3->tensorboard~=2.6->tensorflow) (0.4.8)\n",
      "Requirement already satisfied: certifi>=2017.4.17 in /opt/conda/lib/python3.7/site-packages (from requests<3,>=2.21.0->tensorboard~=2.6->tensorflow) (2021.5.30)\n",
      "Requirement already satisfied: chardet<5,>=3.0.2 in /opt/conda/lib/python3.7/site-packages (from requests<3,>=2.21.0->tensorboard~=2.6->tensorflow) (4.0.0)\n",
      "Requirement already satisfied: urllib3<1.27,>=1.21.1 in /opt/conda/lib/python3.7/site-packages (from requests<3,>=2.21.0->tensorboard~=2.6->tensorflow) (1.26.6)\n",
      "Requirement already satisfied: idna<3,>=2.5 in /opt/conda/lib/python3.7/site-packages (from requests<3,>=2.21.0->tensorboard~=2.6->tensorflow) (2.10)\n",
      "Requirement already satisfied: oauthlib>=3.0.0 in /opt/conda/lib/python3.7/site-packages (from requests-oauthlib>=0.7.0->google-auth-oauthlib<0.5,>=0.4.1->tensorboard~=2.6->tensorflow) (3.1.1)\n",
      "Requirement already satisfied: zipp>=0.5 in /opt/conda/lib/python3.7/site-packages (from importlib-metadata->markdown>=2.6.8->tensorboard~=2.6->tensorflow) (3.5.0)\n"
     ]
    }
   ],
   "source": [
    "! pip install tensorflow"
   ]
  },
  {
   "cell_type": "code",
   "execution_count": 1,
   "id": "4bad4fdc",
   "metadata": {},
   "outputs": [
    {
     "name": "stderr",
     "output_type": "stream",
     "text": [
      "2021-08-26 13:14:31.310353: W tensorflow/stream_executor/platform/default/dso_loader.cc:64] Could not load dynamic library 'libcudart.so.11.0'; dlerror: libcudart.so.11.0: cannot open shared object file: No such file or directory\n",
      "2021-08-26 13:14:31.310399: I tensorflow/stream_executor/cuda/cudart_stub.cc:29] Ignore above cudart dlerror if you do not have a GPU set up on your machine.\n"
     ]
    }
   ],
   "source": [
    "# Imports\n",
    "import numpy as np\n",
    "import pandas as pd\n",
    "import matplotlib.pyplot as plt\n",
    "import matplotlib.patches as mpatches\n",
    "from sklearn.linear_model import LogisticRegression\n",
    "from sklearn.ensemble import RandomForestClassifier\n",
    "from imblearn.under_sampling import RandomUnderSampler\n",
    "from imblearn.over_sampling import RandomOverSampler\n",
    "from sklearn.model_selection import train_test_split\n",
    "from sklearn.preprocessing import StandardScaler\n",
    "from sklearn.metrics import f1_score\n",
    "from sklearn.metrics import accuracy_score, confusion_matrix, classification_report, make_scorer, roc_curve, roc_auc_score, recall_score\n",
    "from sklearn.manifold import TSNE\n",
    "from sklearn.decomposition import PCA\n",
    "import itertools\n",
    "\n",
    "import tensorflow as tf\n",
    "from keras.callbacks import EarlyStopping"
   ]
  },
  {
   "cell_type": "code",
   "execution_count": 2,
   "id": "1a89f3af",
   "metadata": {},
   "outputs": [
    {
     "data": {
      "text/html": [
       "<div>\n",
       "<style scoped>\n",
       "    .dataframe tbody tr th:only-of-type {\n",
       "        vertical-align: middle;\n",
       "    }\n",
       "\n",
       "    .dataframe tbody tr th {\n",
       "        vertical-align: top;\n",
       "    }\n",
       "\n",
       "    .dataframe thead th {\n",
       "        text-align: right;\n",
       "    }\n",
       "</style>\n",
       "<table border=\"1\" class=\"dataframe\">\n",
       "  <thead>\n",
       "    <tr style=\"text-align: right;\">\n",
       "      <th></th>\n",
       "      <th>ein</th>\n",
       "      <th>unrelbusinccd</th>\n",
       "      <th>initiationfees</th>\n",
       "      <th>grsrcptspublicuse</th>\n",
       "      <th>grsincmembers</th>\n",
       "      <th>grsincother</th>\n",
       "      <th>totcntrbgfts</th>\n",
       "      <th>totprgmrevnue</th>\n",
       "      <th>invstmntinc</th>\n",
       "      <th>txexmptbndsproceeds</th>\n",
       "      <th>...</th>\n",
       "      <th>nonpfreayr-1_8</th>\n",
       "      <th>nonpfreayr-1_9</th>\n",
       "      <th>nonpfreayr-1_11</th>\n",
       "      <th>nonpfreayr-1_12</th>\n",
       "      <th>nonpfreayr-1_13</th>\n",
       "      <th>nonpfreayr-1_14</th>\n",
       "      <th>nonpfreayr-1_15</th>\n",
       "      <th>y_term</th>\n",
       "      <th>y_liq</th>\n",
       "      <th>y_TL</th>\n",
       "    </tr>\n",
       "  </thead>\n",
       "  <tbody>\n",
       "    <tr>\n",
       "      <th>0</th>\n",
       "      <td>910454080</td>\n",
       "      <td>0</td>\n",
       "      <td>0</td>\n",
       "      <td>0</td>\n",
       "      <td>0</td>\n",
       "      <td>0</td>\n",
       "      <td>935508</td>\n",
       "      <td>120315</td>\n",
       "      <td>7456</td>\n",
       "      <td>19969</td>\n",
       "      <td>...</td>\n",
       "      <td>0</td>\n",
       "      <td>0</td>\n",
       "      <td>0</td>\n",
       "      <td>0</td>\n",
       "      <td>0</td>\n",
       "      <td>0</td>\n",
       "      <td>0</td>\n",
       "      <td>0</td>\n",
       "      <td>0</td>\n",
       "      <td>0</td>\n",
       "    </tr>\n",
       "    <tr>\n",
       "      <th>1</th>\n",
       "      <td>111966978</td>\n",
       "      <td>0</td>\n",
       "      <td>0</td>\n",
       "      <td>0</td>\n",
       "      <td>0</td>\n",
       "      <td>0</td>\n",
       "      <td>0</td>\n",
       "      <td>5050020</td>\n",
       "      <td>153784</td>\n",
       "      <td>0</td>\n",
       "      <td>...</td>\n",
       "      <td>0</td>\n",
       "      <td>0</td>\n",
       "      <td>0</td>\n",
       "      <td>0</td>\n",
       "      <td>0</td>\n",
       "      <td>0</td>\n",
       "      <td>0</td>\n",
       "      <td>0</td>\n",
       "      <td>0</td>\n",
       "      <td>0</td>\n",
       "    </tr>\n",
       "    <tr>\n",
       "      <th>2</th>\n",
       "      <td>420660491</td>\n",
       "      <td>0</td>\n",
       "      <td>0</td>\n",
       "      <td>0</td>\n",
       "      <td>0</td>\n",
       "      <td>0</td>\n",
       "      <td>2945</td>\n",
       "      <td>11440</td>\n",
       "      <td>489</td>\n",
       "      <td>0</td>\n",
       "      <td>...</td>\n",
       "      <td>0</td>\n",
       "      <td>0</td>\n",
       "      <td>0</td>\n",
       "      <td>0</td>\n",
       "      <td>0</td>\n",
       "      <td>0</td>\n",
       "      <td>0</td>\n",
       "      <td>0</td>\n",
       "      <td>0</td>\n",
       "      <td>0</td>\n",
       "    </tr>\n",
       "    <tr>\n",
       "      <th>3</th>\n",
       "      <td>530152390</td>\n",
       "      <td>1</td>\n",
       "      <td>220425</td>\n",
       "      <td>468101</td>\n",
       "      <td>0</td>\n",
       "      <td>0</td>\n",
       "      <td>411058</td>\n",
       "      <td>2668044</td>\n",
       "      <td>29316</td>\n",
       "      <td>0</td>\n",
       "      <td>...</td>\n",
       "      <td>0</td>\n",
       "      <td>0</td>\n",
       "      <td>0</td>\n",
       "      <td>0</td>\n",
       "      <td>0</td>\n",
       "      <td>0</td>\n",
       "      <td>0</td>\n",
       "      <td>0</td>\n",
       "      <td>0</td>\n",
       "      <td>0</td>\n",
       "    </tr>\n",
       "    <tr>\n",
       "      <th>4</th>\n",
       "      <td>561547207</td>\n",
       "      <td>0</td>\n",
       "      <td>0</td>\n",
       "      <td>0</td>\n",
       "      <td>0</td>\n",
       "      <td>0</td>\n",
       "      <td>75</td>\n",
       "      <td>735052</td>\n",
       "      <td>783</td>\n",
       "      <td>0</td>\n",
       "      <td>...</td>\n",
       "      <td>0</td>\n",
       "      <td>0</td>\n",
       "      <td>0</td>\n",
       "      <td>0</td>\n",
       "      <td>0</td>\n",
       "      <td>0</td>\n",
       "      <td>0</td>\n",
       "      <td>0</td>\n",
       "      <td>0</td>\n",
       "      <td>0</td>\n",
       "    </tr>\n",
       "  </tbody>\n",
       "</table>\n",
       "<p>5 rows × 545 columns</p>\n",
       "</div>"
      ],
      "text/plain": [
       "         ein  unrelbusinccd  initiationfees  grsrcptspublicuse  grsincmembers  \\\n",
       "0  910454080              0               0                  0              0   \n",
       "1  111966978              0               0                  0              0   \n",
       "2  420660491              0               0                  0              0   \n",
       "3  530152390              1          220425             468101              0   \n",
       "4  561547207              0               0                  0              0   \n",
       "\n",
       "   grsincother  totcntrbgfts  totprgmrevnue  invstmntinc  txexmptbndsproceeds  \\\n",
       "0            0        935508         120315         7456                19969   \n",
       "1            0             0        5050020       153784                    0   \n",
       "2            0          2945          11440          489                    0   \n",
       "3            0        411058        2668044        29316                    0   \n",
       "4            0            75         735052          783                    0   \n",
       "\n",
       "   ...  nonpfreayr-1_8  nonpfreayr-1_9  nonpfreayr-1_11  nonpfreayr-1_12  \\\n",
       "0  ...               0               0                0                0   \n",
       "1  ...               0               0                0                0   \n",
       "2  ...               0               0                0                0   \n",
       "3  ...               0               0                0                0   \n",
       "4  ...               0               0                0                0   \n",
       "\n",
       "   nonpfreayr-1_13  nonpfreayr-1_14  nonpfreayr-1_15  y_term  y_liq  y_TL  \n",
       "0                0                0                0       0      0     0  \n",
       "1                0                0                0       0      0     0  \n",
       "2                0                0                0       0      0     0  \n",
       "3                0                0                0       0      0     0  \n",
       "4                0                0                0       0      0     0  \n",
       "\n",
       "[5 rows x 545 columns]"
      ]
     },
     "execution_count": 2,
     "metadata": {},
     "output_type": "execute_result"
    }
   ],
   "source": [
    "df = pd.read_csv('all_yrs_processed.csv')\n",
    "df.head()"
   ]
  },
  {
   "cell_type": "code",
   "execution_count": 3,
   "id": "0b962a91",
   "metadata": {},
   "outputs": [
    {
     "data": {
      "text/plain": [
       "(266387, 545)"
      ]
     },
     "execution_count": 3,
     "metadata": {},
     "output_type": "execute_result"
    }
   ],
   "source": [
    "df.shape"
   ]
  },
  {
   "cell_type": "code",
   "execution_count": 5,
   "id": "312622e6",
   "metadata": {},
   "outputs": [
    {
     "data": {
      "text/html": [
       "<div>\n",
       "<style scoped>\n",
       "    .dataframe tbody tr th:only-of-type {\n",
       "        vertical-align: middle;\n",
       "    }\n",
       "\n",
       "    .dataframe tbody tr th {\n",
       "        vertical-align: top;\n",
       "    }\n",
       "\n",
       "    .dataframe thead th {\n",
       "        text-align: right;\n",
       "    }\n",
       "</style>\n",
       "<table border=\"1\" class=\"dataframe\">\n",
       "  <thead>\n",
       "    <tr style=\"text-align: right;\">\n",
       "      <th></th>\n",
       "      <th>ein</th>\n",
       "      <th>unrelbusinccd</th>\n",
       "      <th>initiationfees</th>\n",
       "      <th>grsrcptspublicuse</th>\n",
       "      <th>grsincmembers</th>\n",
       "      <th>grsincother</th>\n",
       "      <th>totcntrbgfts</th>\n",
       "      <th>totprgmrevnue</th>\n",
       "      <th>invstmntinc</th>\n",
       "      <th>txexmptbndsproceeds</th>\n",
       "      <th>...</th>\n",
       "      <th>nonpfreayr-1_8</th>\n",
       "      <th>nonpfreayr-1_9</th>\n",
       "      <th>nonpfreayr-1_11</th>\n",
       "      <th>nonpfreayr-1_12</th>\n",
       "      <th>nonpfreayr-1_13</th>\n",
       "      <th>nonpfreayr-1_14</th>\n",
       "      <th>nonpfreayr-1_15</th>\n",
       "      <th>y_term</th>\n",
       "      <th>y_liq</th>\n",
       "      <th>y_TL</th>\n",
       "    </tr>\n",
       "  </thead>\n",
       "  <tbody>\n",
       "    <tr>\n",
       "      <th>count</th>\n",
       "      <td>2.663870e+05</td>\n",
       "      <td>266387.000000</td>\n",
       "      <td>2.663870e+05</td>\n",
       "      <td>2.663870e+05</td>\n",
       "      <td>2.663870e+05</td>\n",
       "      <td>2.663870e+05</td>\n",
       "      <td>2.663870e+05</td>\n",
       "      <td>2.663870e+05</td>\n",
       "      <td>2.663870e+05</td>\n",
       "      <td>2.663870e+05</td>\n",
       "      <td>...</td>\n",
       "      <td>266387.000000</td>\n",
       "      <td>266387.000000</td>\n",
       "      <td>266387.000000</td>\n",
       "      <td>266387.000000</td>\n",
       "      <td>266387.000000</td>\n",
       "      <td>266387.000000</td>\n",
       "      <td>266387.000000</td>\n",
       "      <td>266387.000000</td>\n",
       "      <td>266387.000000</td>\n",
       "      <td>266387.000000</td>\n",
       "    </tr>\n",
       "    <tr>\n",
       "      <th>mean</th>\n",
       "      <td>4.576145e+08</td>\n",
       "      <td>0.104284</td>\n",
       "      <td>3.665848e+03</td>\n",
       "      <td>3.186620e+03</td>\n",
       "      <td>2.158111e+05</td>\n",
       "      <td>6.919431e+03</td>\n",
       "      <td>1.568499e+06</td>\n",
       "      <td>5.910035e+06</td>\n",
       "      <td>1.649631e+05</td>\n",
       "      <td>7.404849e+02</td>\n",
       "      <td>...</td>\n",
       "      <td>0.004662</td>\n",
       "      <td>0.268238</td>\n",
       "      <td>0.000923</td>\n",
       "      <td>0.028421</td>\n",
       "      <td>0.009486</td>\n",
       "      <td>0.009366</td>\n",
       "      <td>0.009036</td>\n",
       "      <td>0.005222</td>\n",
       "      <td>0.008919</td>\n",
       "      <td>0.013544</td>\n",
       "    </tr>\n",
       "    <tr>\n",
       "      <th>std</th>\n",
       "      <td>2.632679e+08</td>\n",
       "      <td>0.305630</td>\n",
       "      <td>9.193288e+04</td>\n",
       "      <td>6.970756e+04</td>\n",
       "      <td>7.335869e+06</td>\n",
       "      <td>3.889358e+05</td>\n",
       "      <td>6.364980e+07</td>\n",
       "      <td>1.155329e+08</td>\n",
       "      <td>5.508513e+06</td>\n",
       "      <td>6.609736e+04</td>\n",
       "      <td>...</td>\n",
       "      <td>0.068122</td>\n",
       "      <td>0.443043</td>\n",
       "      <td>0.030375</td>\n",
       "      <td>0.166173</td>\n",
       "      <td>0.096934</td>\n",
       "      <td>0.096324</td>\n",
       "      <td>0.094626</td>\n",
       "      <td>0.072073</td>\n",
       "      <td>0.094020</td>\n",
       "      <td>0.115589</td>\n",
       "    </tr>\n",
       "    <tr>\n",
       "      <th>min</th>\n",
       "      <td>1.001892e+07</td>\n",
       "      <td>0.000000</td>\n",
       "      <td>-6.975000e+03</td>\n",
       "      <td>-2.592000e+03</td>\n",
       "      <td>0.000000e+00</td>\n",
       "      <td>-2.318009e+07</td>\n",
       "      <td>-2.173370e+05</td>\n",
       "      <td>-1.226788e+08</td>\n",
       "      <td>-8.238400e+07</td>\n",
       "      <td>-6.791210e+05</td>\n",
       "      <td>...</td>\n",
       "      <td>0.000000</td>\n",
       "      <td>0.000000</td>\n",
       "      <td>0.000000</td>\n",
       "      <td>0.000000</td>\n",
       "      <td>0.000000</td>\n",
       "      <td>0.000000</td>\n",
       "      <td>0.000000</td>\n",
       "      <td>0.000000</td>\n",
       "      <td>0.000000</td>\n",
       "      <td>0.000000</td>\n",
       "    </tr>\n",
       "    <tr>\n",
       "      <th>25%</th>\n",
       "      <td>2.372491e+08</td>\n",
       "      <td>0.000000</td>\n",
       "      <td>0.000000e+00</td>\n",
       "      <td>0.000000e+00</td>\n",
       "      <td>0.000000e+00</td>\n",
       "      <td>0.000000e+00</td>\n",
       "      <td>1.424500e+03</td>\n",
       "      <td>0.000000e+00</td>\n",
       "      <td>4.000000e+00</td>\n",
       "      <td>0.000000e+00</td>\n",
       "      <td>...</td>\n",
       "      <td>0.000000</td>\n",
       "      <td>0.000000</td>\n",
       "      <td>0.000000</td>\n",
       "      <td>0.000000</td>\n",
       "      <td>0.000000</td>\n",
       "      <td>0.000000</td>\n",
       "      <td>0.000000</td>\n",
       "      <td>0.000000</td>\n",
       "      <td>0.000000</td>\n",
       "      <td>0.000000</td>\n",
       "    </tr>\n",
       "    <tr>\n",
       "      <th>50%</th>\n",
       "      <td>4.109514e+08</td>\n",
       "      <td>0.000000</td>\n",
       "      <td>0.000000e+00</td>\n",
       "      <td>0.000000e+00</td>\n",
       "      <td>0.000000e+00</td>\n",
       "      <td>0.000000e+00</td>\n",
       "      <td>9.133400e+04</td>\n",
       "      <td>7.967100e+04</td>\n",
       "      <td>3.690000e+02</td>\n",
       "      <td>0.000000e+00</td>\n",
       "      <td>...</td>\n",
       "      <td>0.000000</td>\n",
       "      <td>0.000000</td>\n",
       "      <td>0.000000</td>\n",
       "      <td>0.000000</td>\n",
       "      <td>0.000000</td>\n",
       "      <td>0.000000</td>\n",
       "      <td>0.000000</td>\n",
       "      <td>0.000000</td>\n",
       "      <td>0.000000</td>\n",
       "      <td>0.000000</td>\n",
       "    </tr>\n",
       "    <tr>\n",
       "      <th>75%</th>\n",
       "      <td>6.360056e+08</td>\n",
       "      <td>0.000000</td>\n",
       "      <td>0.000000e+00</td>\n",
       "      <td>0.000000e+00</td>\n",
       "      <td>0.000000e+00</td>\n",
       "      <td>0.000000e+00</td>\n",
       "      <td>4.402395e+05</td>\n",
       "      <td>5.366945e+05</td>\n",
       "      <td>8.787500e+03</td>\n",
       "      <td>0.000000e+00</td>\n",
       "      <td>...</td>\n",
       "      <td>0.000000</td>\n",
       "      <td>1.000000</td>\n",
       "      <td>0.000000</td>\n",
       "      <td>0.000000</td>\n",
       "      <td>0.000000</td>\n",
       "      <td>0.000000</td>\n",
       "      <td>0.000000</td>\n",
       "      <td>0.000000</td>\n",
       "      <td>0.000000</td>\n",
       "      <td>0.000000</td>\n",
       "    </tr>\n",
       "    <tr>\n",
       "      <th>max</th>\n",
       "      <td>9.960869e+08</td>\n",
       "      <td>1.000000</td>\n",
       "      <td>1.744288e+07</td>\n",
       "      <td>1.427130e+07</td>\n",
       "      <td>1.197840e+09</td>\n",
       "      <td>1.083687e+08</td>\n",
       "      <td>3.082145e+10</td>\n",
       "      <td>4.223764e+10</td>\n",
       "      <td>1.748190e+09</td>\n",
       "      <td>1.956747e+07</td>\n",
       "      <td>...</td>\n",
       "      <td>1.000000</td>\n",
       "      <td>1.000000</td>\n",
       "      <td>1.000000</td>\n",
       "      <td>1.000000</td>\n",
       "      <td>1.000000</td>\n",
       "      <td>1.000000</td>\n",
       "      <td>1.000000</td>\n",
       "      <td>1.000000</td>\n",
       "      <td>1.000000</td>\n",
       "      <td>1.000000</td>\n",
       "    </tr>\n",
       "  </tbody>\n",
       "</table>\n",
       "<p>8 rows × 545 columns</p>\n",
       "</div>"
      ],
      "text/plain": [
       "                ein  unrelbusinccd  initiationfees  grsrcptspublicuse  \\\n",
       "count  2.663870e+05  266387.000000    2.663870e+05       2.663870e+05   \n",
       "mean   4.576145e+08       0.104284    3.665848e+03       3.186620e+03   \n",
       "std    2.632679e+08       0.305630    9.193288e+04       6.970756e+04   \n",
       "min    1.001892e+07       0.000000   -6.975000e+03      -2.592000e+03   \n",
       "25%    2.372491e+08       0.000000    0.000000e+00       0.000000e+00   \n",
       "50%    4.109514e+08       0.000000    0.000000e+00       0.000000e+00   \n",
       "75%    6.360056e+08       0.000000    0.000000e+00       0.000000e+00   \n",
       "max    9.960869e+08       1.000000    1.744288e+07       1.427130e+07   \n",
       "\n",
       "       grsincmembers   grsincother  totcntrbgfts  totprgmrevnue   invstmntinc  \\\n",
       "count   2.663870e+05  2.663870e+05  2.663870e+05   2.663870e+05  2.663870e+05   \n",
       "mean    2.158111e+05  6.919431e+03  1.568499e+06   5.910035e+06  1.649631e+05   \n",
       "std     7.335869e+06  3.889358e+05  6.364980e+07   1.155329e+08  5.508513e+06   \n",
       "min     0.000000e+00 -2.318009e+07 -2.173370e+05  -1.226788e+08 -8.238400e+07   \n",
       "25%     0.000000e+00  0.000000e+00  1.424500e+03   0.000000e+00  4.000000e+00   \n",
       "50%     0.000000e+00  0.000000e+00  9.133400e+04   7.967100e+04  3.690000e+02   \n",
       "75%     0.000000e+00  0.000000e+00  4.402395e+05   5.366945e+05  8.787500e+03   \n",
       "max     1.197840e+09  1.083687e+08  3.082145e+10   4.223764e+10  1.748190e+09   \n",
       "\n",
       "       txexmptbndsproceeds  ...  nonpfreayr-1_8  nonpfreayr-1_9  \\\n",
       "count         2.663870e+05  ...   266387.000000   266387.000000   \n",
       "mean          7.404849e+02  ...        0.004662        0.268238   \n",
       "std           6.609736e+04  ...        0.068122        0.443043   \n",
       "min          -6.791210e+05  ...        0.000000        0.000000   \n",
       "25%           0.000000e+00  ...        0.000000        0.000000   \n",
       "50%           0.000000e+00  ...        0.000000        0.000000   \n",
       "75%           0.000000e+00  ...        0.000000        1.000000   \n",
       "max           1.956747e+07  ...        1.000000        1.000000   \n",
       "\n",
       "       nonpfreayr-1_11  nonpfreayr-1_12  nonpfreayr-1_13  nonpfreayr-1_14  \\\n",
       "count    266387.000000    266387.000000    266387.000000    266387.000000   \n",
       "mean          0.000923         0.028421         0.009486         0.009366   \n",
       "std           0.030375         0.166173         0.096934         0.096324   \n",
       "min           0.000000         0.000000         0.000000         0.000000   \n",
       "25%           0.000000         0.000000         0.000000         0.000000   \n",
       "50%           0.000000         0.000000         0.000000         0.000000   \n",
       "75%           0.000000         0.000000         0.000000         0.000000   \n",
       "max           1.000000         1.000000         1.000000         1.000000   \n",
       "\n",
       "       nonpfreayr-1_15         y_term          y_liq           y_TL  \n",
       "count    266387.000000  266387.000000  266387.000000  266387.000000  \n",
       "mean          0.009036       0.005222       0.008919       0.013544  \n",
       "std           0.094626       0.072073       0.094020       0.115589  \n",
       "min           0.000000       0.000000       0.000000       0.000000  \n",
       "25%           0.000000       0.000000       0.000000       0.000000  \n",
       "50%           0.000000       0.000000       0.000000       0.000000  \n",
       "75%           0.000000       0.000000       0.000000       0.000000  \n",
       "max           1.000000       1.000000       1.000000       1.000000  \n",
       "\n",
       "[8 rows x 545 columns]"
      ]
     },
     "execution_count": 5,
     "metadata": {},
     "output_type": "execute_result"
    }
   ],
   "source": [
    "df.describe()"
   ]
  },
  {
   "cell_type": "code",
   "execution_count": 6,
   "id": "a86a9c30",
   "metadata": {},
   "outputs": [
    {
     "data": {
      "text/plain": [
       "0    264996\n",
       "1      1391\n",
       "Name: y_term, dtype: int64"
      ]
     },
     "execution_count": 6,
     "metadata": {},
     "output_type": "execute_result"
    }
   ],
   "source": [
    "df.y_term.value_counts()"
   ]
  },
  {
   "cell_type": "code",
   "execution_count": 7,
   "id": "3380ff19",
   "metadata": {},
   "outputs": [
    {
     "data": {
      "text/plain": [
       "0    264011\n",
       "1      2376\n",
       "Name: y_liq, dtype: int64"
      ]
     },
     "execution_count": 7,
     "metadata": {},
     "output_type": "execute_result"
    }
   ],
   "source": [
    "df.y_liq.value_counts()"
   ]
  },
  {
   "cell_type": "code",
   "execution_count": 8,
   "id": "5c57b422",
   "metadata": {},
   "outputs": [
    {
     "data": {
      "text/plain": [
       "0    262779\n",
       "1      3608\n",
       "Name: y_TL, dtype: int64"
      ]
     },
     "execution_count": 8,
     "metadata": {},
     "output_type": "execute_result"
    }
   ],
   "source": [
    "df.y_TL.value_counts()"
   ]
  },
  {
   "cell_type": "code",
   "execution_count": 4,
   "id": "0a7e5bda",
   "metadata": {},
   "outputs": [
    {
     "name": "stdout",
     "output_type": "stream",
     "text": [
      "(228181, 545)\n"
     ]
    },
    {
     "data": {
      "text/plain": [
       "((228181, 541), (228181, 3))"
      ]
     },
     "execution_count": 4,
     "metadata": {},
     "output_type": "execute_result"
    }
   ],
   "source": [
    "df = df.dropna()\n",
    "print(df.shape)\n",
    "\n",
    "y_cols = ['y_term', 'y_liq', 'y_TL']\n",
    "X = df.drop(columns = y_cols).drop(columns = 'ein')\n",
    "y = df[y_cols]\n",
    "\n",
    "y1 = y['y_TL'] # y1 - y full/partial \n",
    "yt = y['y_term'] # yt - y term (full termination)\n",
    "yl = y['y_liq']  # yl - y liquid (partial liquidation)\n",
    "\n",
    "X.shape, y.shape"
   ]
  },
  {
   "cell_type": "code",
   "execution_count": 6,
   "id": "453feb91",
   "metadata": {},
   "outputs": [
    {
     "data": {
      "text/plain": [
       "0    225000\n",
       "1      3181\n",
       "Name: y_TL, dtype: int64"
      ]
     },
     "execution_count": 6,
     "metadata": {},
     "output_type": "execute_result"
    }
   ],
   "source": [
    "y1.value_counts()"
   ]
  },
  {
   "cell_type": "code",
   "execution_count": 9,
   "id": "77de2896",
   "metadata": {},
   "outputs": [],
   "source": [
    "X_reduced_tsne = TSNE(n_components=2, random_state=885).fit_transform(X.values)"
   ]
  },
  {
   "cell_type": "code",
   "execution_count": 11,
   "id": "db9132e7",
   "metadata": {},
   "outputs": [
    {
     "name": "stderr",
     "output_type": "stream",
     "text": [
      "/opt/conda/lib/python3.7/site-packages/IPython/core/pylabtools.py:134: UserWarning: Creating legend with loc=\"best\" can be slow with large amounts of data.\n",
      "  fig.canvas.print_figure(bytes_io, **kw)\n"
     ]
    },
    {
     "data": {
      "image/png": "[encoded data removed]",
      "text/plain": [
       "<Figure size 432x288 with 1 Axes>"
      ]
     },
     "metadata": {
      "needs_background": "light"
     },
     "output_type": "display_data"
    }
   ],
   "source": [
    "blue_patch = mpatches.Patch(color='#0A0AFF', label='No Termination/Liquidation')\n",
    "red_patch = mpatches.Patch(color='#AF0000', label='Termination/Liquidation')\n",
    "\n",
    "\n",
    "# t-SNE scatter plot\n",
    "plt.scatter(X_reduced_tsne[:,0], X_reduced_tsne[:,1], c=(y1 == 0), cmap='coolwarm', label='No Termination/Liquidation', linewidths=2)\n",
    "plt.scatter(X_reduced_tsne[:,0], X_reduced_tsne[:,1], c=(y1 == 1), cmap='coolwarm', label='Termination/Liquidation', linewidths=2)\n",
    "plt.title('t-SNE', fontsize=14)\n",
    "\n",
    "plt.grid(True)\n",
    "\n",
    "plt.legend(handles=[blue_patch, red_patch])\n",
    "plt.show()"
   ]
  },
  {
   "cell_type": "code",
   "execution_count": 14,
   "id": "5df3841d",
   "metadata": {},
   "outputs": [],
   "source": [
    "X_reduced_pca = PCA(n_components=2, random_state=42).fit_transform(X.values)"
   ]
  },
  {
   "cell_type": "code",
   "execution_count": 16,
   "id": "82f7a1be",
   "metadata": {},
   "outputs": [
    {
     "data": {
      "image/png": "[encoded data removed]",
      "text/plain": [
       "<Figure size 432x288 with 1 Axes>"
      ]
     },
     "metadata": {
      "needs_background": "light"
     },
     "output_type": "display_data"
    }
   ],
   "source": [
    "# PCA scatter plot\n",
    "plt.scatter(X_reduced_pca[:,0], X_reduced_pca[:,1], c=(y1 == 0), cmap='coolwarm', label='No Termination/Liquidation', linewidths=2)\n",
    "plt.scatter(X_reduced_pca[:,0], X_reduced_pca[:,1], c=(y1 == 1), cmap='coolwarm', label='Termination/Liquidation', linewidths=2)\n",
    "plt.title('PCA', fontsize=14)\n",
    "\n",
    "plt.grid(True)\n",
    "\n",
    "plt.legend(handles=[blue_patch, red_patch])\n",
    "plt.show()"
   ]
  },
  {
   "cell_type": "markdown",
   "id": "e0f343fd",
   "metadata": {},
   "source": [
    "# Pre-processing\n",
    "* Apply nomalization to the whole dataset\n",
    "* Split train, validation, and test sets\n",
    "* Use resampling method"
   ]
  },
  {
   "cell_type": "code",
   "execution_count": 10,
   "id": "233023f9",
   "metadata": {},
   "outputs": [
    {
     "name": "stderr",
     "output_type": "stream",
     "text": [
      "/opt/conda/lib/python3.7/site-packages/pandas/core/arraylike.py:364: RuntimeWarning: divide by zero encountered in log10\n",
      "  result = getattr(ufunc, method)(*inputs, **kwargs)\n",
      "/opt/conda/lib/python3.7/site-packages/pandas/core/arraylike.py:364: RuntimeWarning: invalid value encountered in log10\n",
      "  result = getattr(ufunc, method)(*inputs, **kwargs)\n"
     ]
    },
    {
     "data": {
      "text/html": [
       "<div>\n",
       "<style scoped>\n",
       "    .dataframe tbody tr th:only-of-type {\n",
       "        vertical-align: middle;\n",
       "    }\n",
       "\n",
       "    .dataframe tbody tr th {\n",
       "        vertical-align: top;\n",
       "    }\n",
       "\n",
       "    .dataframe thead th {\n",
       "        text-align: right;\n",
       "    }\n",
       "</style>\n",
       "<table border=\"1\" class=\"dataframe\">\n",
       "  <thead>\n",
       "    <tr style=\"text-align: right;\">\n",
       "      <th></th>\n",
       "      <th>unrelbusinccd</th>\n",
       "      <th>initiationfees</th>\n",
       "      <th>grsrcptspublicuse</th>\n",
       "      <th>grsincmembers</th>\n",
       "      <th>grsincother</th>\n",
       "      <th>totcntrbgfts</th>\n",
       "      <th>totprgmrevnue</th>\n",
       "      <th>invstmntinc</th>\n",
       "      <th>txexmptbndsproceeds</th>\n",
       "      <th>royaltsinc</th>\n",
       "      <th>...</th>\n",
       "      <th>nonpfreayr-1_5</th>\n",
       "      <th>nonpfreayr-1_6</th>\n",
       "      <th>nonpfreayr-1_7</th>\n",
       "      <th>nonpfreayr-1_8</th>\n",
       "      <th>nonpfreayr-1_9</th>\n",
       "      <th>nonpfreayr-1_11</th>\n",
       "      <th>nonpfreayr-1_12</th>\n",
       "      <th>nonpfreayr-1_13</th>\n",
       "      <th>nonpfreayr-1_14</th>\n",
       "      <th>nonpfreayr-1_15</th>\n",
       "    </tr>\n",
       "  </thead>\n",
       "  <tbody>\n",
       "    <tr>\n",
       "      <th>1</th>\n",
       "      <td>0.0</td>\n",
       "      <td>0.000000</td>\n",
       "      <td>0.000000</td>\n",
       "      <td>0.0</td>\n",
       "      <td>0.0</td>\n",
       "      <td>0.000000</td>\n",
       "      <td>6.703293</td>\n",
       "      <td>5.186911</td>\n",
       "      <td>0.0</td>\n",
       "      <td>0.000000</td>\n",
       "      <td>...</td>\n",
       "      <td>0.0</td>\n",
       "      <td>0.0</td>\n",
       "      <td>0.0</td>\n",
       "      <td>0.0</td>\n",
       "      <td>0.0</td>\n",
       "      <td>0.0</td>\n",
       "      <td>0.0</td>\n",
       "      <td>0.0</td>\n",
       "      <td>0.0</td>\n",
       "      <td>0.0</td>\n",
       "    </tr>\n",
       "    <tr>\n",
       "      <th>6</th>\n",
       "      <td>1.0</td>\n",
       "      <td>0.000000</td>\n",
       "      <td>0.000000</td>\n",
       "      <td>0.0</td>\n",
       "      <td>0.0</td>\n",
       "      <td>6.294340</td>\n",
       "      <td>6.774271</td>\n",
       "      <td>4.483887</td>\n",
       "      <td>0.0</td>\n",
       "      <td>4.683299</td>\n",
       "      <td>...</td>\n",
       "      <td>0.0</td>\n",
       "      <td>0.0</td>\n",
       "      <td>0.0</td>\n",
       "      <td>0.0</td>\n",
       "      <td>0.0</td>\n",
       "      <td>0.0</td>\n",
       "      <td>0.0</td>\n",
       "      <td>0.0</td>\n",
       "      <td>0.0</td>\n",
       "      <td>0.0</td>\n",
       "    </tr>\n",
       "    <tr>\n",
       "      <th>10</th>\n",
       "      <td>0.0</td>\n",
       "      <td>0.000000</td>\n",
       "      <td>0.000000</td>\n",
       "      <td>0.0</td>\n",
       "      <td>0.0</td>\n",
       "      <td>0.000000</td>\n",
       "      <td>5.529430</td>\n",
       "      <td>1.913814</td>\n",
       "      <td>0.0</td>\n",
       "      <td>0.000000</td>\n",
       "      <td>...</td>\n",
       "      <td>0.0</td>\n",
       "      <td>0.0</td>\n",
       "      <td>0.0</td>\n",
       "      <td>0.0</td>\n",
       "      <td>0.0</td>\n",
       "      <td>0.0</td>\n",
       "      <td>0.0</td>\n",
       "      <td>0.0</td>\n",
       "      <td>0.0</td>\n",
       "      <td>0.0</td>\n",
       "    </tr>\n",
       "    <tr>\n",
       "      <th>11</th>\n",
       "      <td>1.0</td>\n",
       "      <td>6.051747</td>\n",
       "      <td>5.339859</td>\n",
       "      <td>0.0</td>\n",
       "      <td>0.0</td>\n",
       "      <td>0.000000</td>\n",
       "      <td>6.483899</td>\n",
       "      <td>4.277128</td>\n",
       "      <td>0.0</td>\n",
       "      <td>0.000000</td>\n",
       "      <td>...</td>\n",
       "      <td>0.0</td>\n",
       "      <td>0.0</td>\n",
       "      <td>0.0</td>\n",
       "      <td>0.0</td>\n",
       "      <td>0.0</td>\n",
       "      <td>0.0</td>\n",
       "      <td>0.0</td>\n",
       "      <td>0.0</td>\n",
       "      <td>0.0</td>\n",
       "      <td>0.0</td>\n",
       "    </tr>\n",
       "    <tr>\n",
       "      <th>19</th>\n",
       "      <td>1.0</td>\n",
       "      <td>0.000000</td>\n",
       "      <td>0.000000</td>\n",
       "      <td>0.0</td>\n",
       "      <td>0.0</td>\n",
       "      <td>6.930669</td>\n",
       "      <td>6.842122</td>\n",
       "      <td>3.616476</td>\n",
       "      <td>0.0</td>\n",
       "      <td>0.000000</td>\n",
       "      <td>...</td>\n",
       "      <td>0.0</td>\n",
       "      <td>0.0</td>\n",
       "      <td>0.0</td>\n",
       "      <td>0.0</td>\n",
       "      <td>0.0</td>\n",
       "      <td>0.0</td>\n",
       "      <td>0.0</td>\n",
       "      <td>0.0</td>\n",
       "      <td>0.0</td>\n",
       "      <td>0.0</td>\n",
       "    </tr>\n",
       "  </tbody>\n",
       "</table>\n",
       "<p>5 rows × 541 columns</p>\n",
       "</div>"
      ],
      "text/plain": [
       "    unrelbusinccd  initiationfees  grsrcptspublicuse  grsincmembers  \\\n",
       "1             0.0        0.000000           0.000000            0.0   \n",
       "6             1.0        0.000000           0.000000            0.0   \n",
       "10            0.0        0.000000           0.000000            0.0   \n",
       "11            1.0        6.051747           5.339859            0.0   \n",
       "19            1.0        0.000000           0.000000            0.0   \n",
       "\n",
       "    grsincother  totcntrbgfts  totprgmrevnue  invstmntinc  \\\n",
       "1           0.0      0.000000       6.703293     5.186911   \n",
       "6           0.0      6.294340       6.774271     4.483887   \n",
       "10          0.0      0.000000       5.529430     1.913814   \n",
       "11          0.0      0.000000       6.483899     4.277128   \n",
       "19          0.0      6.930669       6.842122     3.616476   \n",
       "\n",
       "    txexmptbndsproceeds  royaltsinc  ...  nonpfreayr-1_5  nonpfreayr-1_6  \\\n",
       "1                   0.0    0.000000  ...             0.0             0.0   \n",
       "6                   0.0    4.683299  ...             0.0             0.0   \n",
       "10                  0.0    0.000000  ...             0.0             0.0   \n",
       "11                  0.0    0.000000  ...             0.0             0.0   \n",
       "19                  0.0    0.000000  ...             0.0             0.0   \n",
       "\n",
       "    nonpfreayr-1_7  nonpfreayr-1_8  nonpfreayr-1_9  nonpfreayr-1_11  \\\n",
       "1              0.0             0.0             0.0              0.0   \n",
       "6              0.0             0.0             0.0              0.0   \n",
       "10             0.0             0.0             0.0              0.0   \n",
       "11             0.0             0.0             0.0              0.0   \n",
       "19             0.0             0.0             0.0              0.0   \n",
       "\n",
       "    nonpfreayr-1_12  nonpfreayr-1_13  nonpfreayr-1_14  nonpfreayr-1_15  \n",
       "1               0.0              0.0              0.0              0.0  \n",
       "6               0.0              0.0              0.0              0.0  \n",
       "10              0.0              0.0              0.0              0.0  \n",
       "11              0.0              0.0              0.0              0.0  \n",
       "19              0.0              0.0              0.0              0.0  \n",
       "\n",
       "[5 rows x 541 columns]"
      ]
     },
     "execution_count": 10,
     "metadata": {},
     "output_type": "execute_result"
    }
   ],
   "source": [
    "# transfer to log df\n",
    "numeric_df = X.apply(lambda x: np.log10(x) if np.issubdtype(x.dtype, np.number) else x)\n",
    "numeric_df = numeric_df.replace(0,1)\n",
    "numeric_df[np.isfinite(numeric_df)==0]=0\n",
    "numeric_df.head()"
   ]
  },
  {
   "cell_type": "code",
   "execution_count": 11,
   "id": "5f03dfe7",
   "metadata": {},
   "outputs": [],
   "source": [
    "# normalize\n",
    "scaler = StandardScaler()\n",
    "inputX = scaler.fit_transform(X)"
   ]
  },
  {
   "cell_type": "code",
   "execution_count": 12,
   "id": "899219df",
   "metadata": {},
   "outputs": [
    {
     "data": {
      "text/plain": [
       "((182544, 541), (45637, 541), (182544,), (45637,))"
      ]
     },
     "execution_count": 12,
     "metadata": {},
     "output_type": "execute_result"
    }
   ],
   "source": [
    "# Train-test split\n",
    "X_train, X_test, y_train, y_test = train_test_split(inputX, y1, test_size=0.2)\n",
    "X_train.shape, X_test.shape, y_train.shape, y_test.shape"
   ]
  },
  {
   "cell_type": "code",
   "execution_count": 13,
   "id": "e0d5a81f",
   "metadata": {},
   "outputs": [],
   "source": [
    "# Train-train, train-test split\n",
    "X_input, X_val, y_input, y_val = train_test_split(X_train, y_train, test_size=0.2)"
   ]
  },
  {
   "cell_type": "markdown",
   "id": "b271c48d",
   "metadata": {},
   "source": [
    "Choosing either downsample or upsample\n",
    "* downsample: 6362 rows, takes less time to train\n",
    "* upsample: 287986 rows, more samples to train"
   ]
  },
  {
   "cell_type": "code",
   "execution_count": 21,
   "id": "732fda80",
   "metadata": {},
   "outputs": [],
   "source": [
    "# # using log df \n",
    "# undersample = RandomUnderSampler(sampling_strategy='majority')\n",
    "# X_over, y1_over = undersample.fit_resample(X_input,y_input)"
   ]
  },
  {
   "cell_type": "code",
   "execution_count": 14,
   "id": "d5cbc7d0",
   "metadata": {},
   "outputs": [],
   "source": [
    "# define oversampling strategy\n",
    "oversample = RandomOverSampler(sampling_strategy='minority')\n",
    "# fit and apply the transform\n",
    "X_over, y1_over = oversample.fit_resample(X_input, y_input)"
   ]
  },
  {
   "cell_type": "code",
   "execution_count": 15,
   "id": "7fc2b43f",
   "metadata": {},
   "outputs": [
    {
     "data": {
      "text/plain": [
       "(288100, 541)"
      ]
     },
     "execution_count": 15,
     "metadata": {},
     "output_type": "execute_result"
    }
   ],
   "source": [
    "X_over.shape"
   ]
  },
  {
   "cell_type": "code",
   "execution_count": 16,
   "id": "0662cb73",
   "metadata": {},
   "outputs": [
    {
     "data": {
      "text/plain": [
       "(288100,)"
      ]
     },
     "execution_count": 16,
     "metadata": {},
     "output_type": "execute_result"
    }
   ],
   "source": [
    "y1_over.shape"
   ]
  },
  {
   "cell_type": "markdown",
   "id": "1591c04f",
   "metadata": {},
   "source": [
    "# Plotting Functions"
   ]
  },
  {
   "cell_type": "code",
   "execution_count": 17,
   "id": "fbb32769",
   "metadata": {},
   "outputs": [],
   "source": [
    "# Create a confusion matrix\n",
    "def plot_confusion_matrix(cm, classes,\n",
    "                          title='Confusion matrix',\n",
    "                          cmap=plt.cm.Blues):\n",
    "    \n",
    "    print(cm)\n",
    "\n",
    "    plt.imshow(cm, interpolation='nearest', cmap=cmap)\n",
    "    plt.title(title, fontsize=14)\n",
    "    plt.colorbar()\n",
    "    tick_marks = np.arange(len(classes))\n",
    "    plt.xticks(tick_marks, classes, rotation=45)\n",
    "    plt.yticks(tick_marks, classes)\n",
    "\n",
    "    fmt = 'd'\n",
    "    thresh = cm.max() / 2.\n",
    "    for i, j in itertools.product(range(cm.shape[0]), range(cm.shape[1])):\n",
    "        plt.text(j, i, format(cm[i, j], fmt),\n",
    "                 horizontalalignment=\"center\",\n",
    "                 color=\"white\" if cm[i, j] > thresh else \"black\")\n",
    "\n",
    "    plt.tight_layout()\n",
    "    plt.ylabel('True label')\n",
    "    plt.xlabel('Predicted label')"
   ]
  },
  {
   "cell_type": "code",
   "execution_count": 18,
   "id": "a137648b",
   "metadata": {},
   "outputs": [],
   "source": [
    "def plot_the_accuracy(epochs, accuracy, val_accuracy):\n",
    "  plt.figure()\n",
    "  plt.xlabel(\"Epoch\")\n",
    "  plt.ylabel(\"Accuracy\")\n",
    "  plt.plot(epochs, accuracy, 'o-', label='train')\n",
    "  plt.plot(epochs, val_accuracy, 'o-', label='validation')\n",
    "  plt.legend()\n",
    "  plt.ylim([accuracy.min()*0.97, accuracy.max()])\n",
    "  plt.show()"
   ]
  },
  {
   "cell_type": "code",
   "execution_count": 19,
   "id": "fbe5324b",
   "metadata": {},
   "outputs": [],
   "source": [
    "def plot_the_model(label, prediction):\n",
    "  plt.xlabel(\"label\")\n",
    "  plt.ylabel(\"prediction\")\n",
    "  plt.scatter(label, prediction)\n",
    "  x0 = 0\n",
    "  x1 = np.minimum(label.max(),prediction.max())\n",
    "  plt.show()"
   ]
  },
  {
   "cell_type": "code",
   "execution_count": 20,
   "id": "8f937f9e",
   "metadata": {},
   "outputs": [],
   "source": [
    "def plot_the_prob(model, features, labels):\n",
    "    prediction=pd.DataFrame(model.predict(features))\n",
    "    plt.figure(figsize=(10,8))\n",
    "    plt.hist(prediction[labels==0], bins=50, label='Negatives')\n",
    "    plt.hist(prediction[labels==1], bins=50, label='Positives', alpha=0.6, color='r')\n",
    "    plt.xlabel('Probability of being Positive Class')\n",
    "    plt.ylabel('Number of records in each bucket')\n",
    "    plt.legend()\n",
    "    plt.show()"
   ]
  },
  {
   "cell_type": "code",
   "execution_count": 21,
   "id": "2206c476",
   "metadata": {},
   "outputs": [],
   "source": [
    "def plot_the_prob_1(model, features, labels):\n",
    "    prediction=pd.DataFrame(model.predict(features)[:,1])\n",
    "    plt.figure(figsize=(10,8))\n",
    "    plt.hist(prediction[labels==0], bins=50, label='Negatives')\n",
    "    plt.hist(prediction[labels==1], bins=50, label='Positives', alpha=0.6, color='r')\n",
    "    plt.xlabel('Probability of being Positive Class')\n",
    "    plt.ylabel('Number of records in each bucket')\n",
    "    plt.legend()\n",
    "    plt.show()"
   ]
  },
  {
   "cell_type": "code",
   "execution_count": 22,
   "id": "c3f2dbf2",
   "metadata": {},
   "outputs": [],
   "source": [
    "def plot_the_loss(epochs, loss, val_loss):\n",
    "  plt.figure()\n",
    "  plt.xlabel(\"Epoch\")\n",
    "  plt.ylabel(\"Loss\")\n",
    "  plt.plot(epochs, loss, label='train_loss')\n",
    "  plt.plot(epochs, val_loss, label='validation_loss')\n",
    "  plt.legend()\n",
    "  plt.ylim([loss.min()*0.97, loss.max()])\n",
    "  plt.show()"
   ]
  },
  {
   "cell_type": "markdown",
   "id": "e2b34788",
   "metadata": {},
   "source": [
    "# Model Baseline\n",
    "**Downsample baselines**\n",
    "* Logistic regression\n",
    "    * validation set accuracy: 0.63\n",
    "    * validation set AUC: 0.63\n",
    "* Random forest\n",
    "    * validation set accuracy: 0.63\n",
    "    * validation set AUC: 0.63\n",
    "    \n",
    "**Upsample baselines**\n",
    "* Logistic regression\n",
    "    * validation set accuracy: 0.69\n",
    "    * validation set AUC: 0.69\n",
    "* Random forest\n",
    "    * validation set accuracy: 0.99\n",
    "    * validation set AUC: 0.99\n",
    "    \n",
    "The Random Forest model already has a 99% accuracy."
   ]
  },
  {
   "cell_type": "code",
   "execution_count": 18,
   "id": "452e699f",
   "metadata": {},
   "outputs": [
    {
     "name": "stderr",
     "output_type": "stream",
     "text": [
      "/opt/conda/lib/python3.7/site-packages/sklearn/linear_model/_logistic.py:765: ConvergenceWarning: lbfgs failed to converge (status=1):\n",
      "STOP: TOTAL NO. of ITERATIONS REACHED LIMIT.\n",
      "\n",
      "Increase the number of iterations (max_iter) or scale the data as shown in:\n",
      "    https://scikit-learn.org/stable/modules/preprocessing.html\n",
      "Please also refer to the documentation for alternative solver options:\n",
      "    https://scikit-learn.org/stable/modules/linear_model.html#logistic-regression\n",
      "  extra_warning_msg=_LOGISTIC_SOLVER_CONVERGENCE_MSG)\n"
     ]
    }
   ],
   "source": [
    "# # downsampled - logistic baseline\n",
    "# from sklearn.linear_model import LogisticRegression\n",
    "# from sklearn.metrics import accuracy_score, confusion_matrix, classification_report, make_scorer, roc_curve, roc_auc_score, recall_score\n",
    "# clf = LogisticRegression()\n",
    "# clf.fit(X_over, y1_over)\n",
    "# pred = clf.predict(X_val)\n",
    "# pred_train = clf.predict(X_over)\n",
    "# acc = accuracy_score(y_val, pred)\n",
    "# acc_train = accuracy_score(y1_over, pred_train)\n",
    "# auc = roc_auc_score(y_val, pred)\n",
    "# auc_train = roc_auc_score(y1_over, pred_train)\n",
    "\n",
    "# col = []\n",
    "# algo = pd.DataFrame(columns = col)\n",
    "# algo.loc[0, 'Algorithm'] = 'Logistic Regression'\n",
    "# algo.loc[0, 'Accuracy_train'] = acc_train\n",
    "# algo.loc[0, 'Accuracy_test'] = acc\n",
    "# algo.loc[0, 'AUC Score_train'] = auc_train\n",
    "# algo.loc[0, 'AUC Score_test'] = auc"
   ]
  },
  {
   "cell_type": "code",
   "execution_count": 19,
   "id": "19efef80",
   "metadata": {},
   "outputs": [
    {
     "data": {
      "text/html": [
       "<div>\n",
       "<style scoped>\n",
       "    .dataframe tbody tr th:only-of-type {\n",
       "        vertical-align: middle;\n",
       "    }\n",
       "\n",
       "    .dataframe tbody tr th {\n",
       "        vertical-align: top;\n",
       "    }\n",
       "\n",
       "    .dataframe thead th {\n",
       "        text-align: right;\n",
       "    }\n",
       "</style>\n",
       "<table border=\"1\" class=\"dataframe\">\n",
       "  <thead>\n",
       "    <tr style=\"text-align: right;\">\n",
       "      <th></th>\n",
       "      <th>Algorithm</th>\n",
       "      <th>Accuracy_train</th>\n",
       "      <th>Accuracy_test</th>\n",
       "      <th>AUC Score_train</th>\n",
       "      <th>AUC Score_test</th>\n",
       "    </tr>\n",
       "  </thead>\n",
       "  <tbody>\n",
       "    <tr>\n",
       "      <th>0</th>\n",
       "      <td>Logistic Regression</td>\n",
       "      <td>0.694015</td>\n",
       "      <td>0.682407</td>\n",
       "      <td>0.694015</td>\n",
       "      <td>0.643308</td>\n",
       "    </tr>\n",
       "    <tr>\n",
       "      <th>1</th>\n",
       "      <td>Random Forest</td>\n",
       "      <td>1.000000</td>\n",
       "      <td>0.705223</td>\n",
       "      <td>1.000000</td>\n",
       "      <td>0.664285</td>\n",
       "    </tr>\n",
       "  </tbody>\n",
       "</table>\n",
       "</div>"
      ],
      "text/plain": [
       "             Algorithm  Accuracy_train  Accuracy_test  AUC Score_train  \\\n",
       "0  Logistic Regression        0.694015       0.682407         0.694015   \n",
       "1        Random Forest        1.000000       0.705223         1.000000   \n",
       "\n",
       "   AUC Score_test  \n",
       "0        0.643308  \n",
       "1        0.664285  "
      ]
     },
     "execution_count": 19,
     "metadata": {},
     "output_type": "execute_result"
    }
   ],
   "source": [
    "# # downsampled - random forest baseline\n",
    "# from sklearn.ensemble import RandomForestClassifier\n",
    "# clf = RandomForestClassifier()\n",
    "# clf.fit(X_over, y1_over)\n",
    "# pred = clf.predict(X_val)\n",
    "# pred_train = clf.predict(X_over)\n",
    "# acc = accuracy_score(y_val, pred)\n",
    "# acc_train = accuracy_score(y1_over, pred_train)\n",
    "# auc = roc_auc_score(y_val, pred)\n",
    "# auc_train = roc_auc_score(y1_over, pred_train)\n",
    "\n",
    "# algo.loc[1, 'Algorithm'] = 'Random Forest'\n",
    "# algo.loc[1, 'Accuracy_train'] = acc_train\n",
    "# algo.loc[1, 'Accuracy_test'] = acc\n",
    "# algo.loc[1, 'AUC Score_train'] = auc_train\n",
    "# algo.loc[1, 'AUC Score_test'] = auc\n",
    "# algo"
   ]
  },
  {
   "cell_type": "code",
   "execution_count": 80,
   "id": "5683d2d8",
   "metadata": {},
   "outputs": [
    {
     "name": "stderr",
     "output_type": "stream",
     "text": [
      "/opt/conda/lib/python3.7/site-packages/sklearn/linear_model/_logistic.py:765: ConvergenceWarning: lbfgs failed to converge (status=1):\n",
      "STOP: TOTAL NO. of ITERATIONS REACHED LIMIT.\n",
      "\n",
      "Increase the number of iterations (max_iter) or scale the data as shown in:\n",
      "    https://scikit-learn.org/stable/modules/preprocessing.html\n",
      "Please also refer to the documentation for alternative solver options:\n",
      "    https://scikit-learn.org/stable/modules/linear_model.html#logistic-regression\n",
      "  extra_warning_msg=_LOGISTIC_SOLVER_CONVERGENCE_MSG)\n"
     ]
    }
   ],
   "source": [
    "# upsampled - logistic baseline\n",
    "clf = LogisticRegression()\n",
    "clf.fit(X_over, y1_over)\n",
    "pred = clf.predict(X_val)\n",
    "pred_train = clf.predict(X_over)\n",
    "acc = accuracy_score(y_val, pred)\n",
    "acc_train = accuracy_score(y1_over, pred_train)\n",
    "auc = roc_auc_score(y_val, pred)\n",
    "auc_train = roc_auc_score(y1_over, pred_train)\n",
    "\n",
    "col = []\n",
    "algo = pd.DataFrame(columns = col)\n",
    "algo.loc[0, 'Algorithm'] = 'Logistic Regression'\n",
    "algo.loc[0, 'Accuracy_train'] = acc_train\n",
    "algo.loc[0, 'Accuracy_test'] = acc\n",
    "algo.loc[0, 'AUC Score_train'] = auc_train\n",
    "algo.loc[0, 'AUC Score_test'] = auc"
   ]
  },
  {
   "cell_type": "code",
   "execution_count": 81,
   "id": "465810e0",
   "metadata": {},
   "outputs": [
    {
     "name": "stdout",
     "output_type": "stream",
     "text": [
      "[[32476 12504]\n",
      " [  316   341]]\n"
     ]
    },
    {
     "data": {
      "image/png": "[encoded data removed]",
      "text/plain": [
       "<Figure size 432x288 with 2 Axes>"
      ]
     },
     "metadata": {
      "needs_background": "light"
     },
     "output_type": "display_data"
    }
   ],
   "source": [
    "undersample_cm = confusion_matrix(y_test, clf.predict(X_test))\n",
    "labels = ['No Termination/Liquidation', 'Termination/Liquidation']\n",
    "plot_confusion_matrix(undersample_cm, labels, title=\"Confusion Matrix\", cmap=plt.cm.Reds)"
   ]
  },
  {
   "cell_type": "code",
   "execution_count": 30,
   "id": "c7cb9342",
   "metadata": {},
   "outputs": [
    {
     "data": {
      "text/html": [
       "<div>\n",
       "<style scoped>\n",
       "    .dataframe tbody tr th:only-of-type {\n",
       "        vertical-align: middle;\n",
       "    }\n",
       "\n",
       "    .dataframe tbody tr th {\n",
       "        vertical-align: top;\n",
       "    }\n",
       "\n",
       "    .dataframe thead th {\n",
       "        text-align: right;\n",
       "    }\n",
       "</style>\n",
       "<table border=\"1\" class=\"dataframe\">\n",
       "  <thead>\n",
       "    <tr style=\"text-align: right;\">\n",
       "      <th></th>\n",
       "      <th>Algorithm</th>\n",
       "      <th>Accuracy_train</th>\n",
       "      <th>Accuracy_test</th>\n",
       "      <th>AUC Score_train</th>\n",
       "      <th>AUC Score_test</th>\n",
       "    </tr>\n",
       "  </thead>\n",
       "  <tbody>\n",
       "    <tr>\n",
       "      <th>0</th>\n",
       "      <td>Logistic Regression</td>\n",
       "      <td>0.677355</td>\n",
       "      <td>0.720069</td>\n",
       "      <td>0.677355</td>\n",
       "      <td>0.642294</td>\n",
       "    </tr>\n",
       "    <tr>\n",
       "      <th>1</th>\n",
       "      <td>Random Forest</td>\n",
       "      <td>1.000000</td>\n",
       "      <td>0.985127</td>\n",
       "      <td>1.000000</td>\n",
       "      <td>0.503599</td>\n",
       "    </tr>\n",
       "  </tbody>\n",
       "</table>\n",
       "</div>"
      ],
      "text/plain": [
       "             Algorithm  Accuracy_train  Accuracy_test  AUC Score_train  \\\n",
       "0  Logistic Regression        0.677355       0.720069         0.677355   \n",
       "1        Random Forest        1.000000       0.985127         1.000000   \n",
       "\n",
       "   AUC Score_test  \n",
       "0        0.642294  \n",
       "1        0.503599  "
      ]
     },
     "execution_count": 30,
     "metadata": {},
     "output_type": "execute_result"
    }
   ],
   "source": [
    "# upsampled - random forest baseline\n",
    "from sklearn.ensemble import RandomForestClassifier\n",
    "clf = RandomForestClassifier()\n",
    "clf.fit(X_over, y1_over)\n",
    "pred = clf.predict(X_val)\n",
    "pred_train = clf.predict(X_over)\n",
    "acc = accuracy_score(y_val, pred)\n",
    "acc_train = accuracy_score(y1_over, pred_train)\n",
    "auc = roc_auc_score(y_val, pred)\n",
    "auc_train = roc_auc_score(y1_over, pred_train)\n",
    "\n",
    "algo.loc[1, 'Algorithm'] = 'Random Forest'\n",
    "algo.loc[1, 'Accuracy_train'] = acc_train\n",
    "algo.loc[1, 'Accuracy_test'] = acc\n",
    "algo.loc[1, 'AUC Score_train'] = auc_train\n",
    "algo.loc[1, 'AUC Score_test'] = auc\n",
    "algo"
   ]
  },
  {
   "cell_type": "code",
   "execution_count": 34,
   "id": "09632699",
   "metadata": {},
   "outputs": [
    {
     "name": "stdout",
     "output_type": "stream",
     "text": [
      "[[44977     3]\n",
      " [  654     3]]\n"
     ]
    },
    {
     "data": {
      "image/png": "[encoded data removed]",
      "text/plain": [
       "<Figure size 432x288 with 2 Axes>"
      ]
     },
     "metadata": {
      "needs_background": "light"
     },
     "output_type": "display_data"
    }
   ],
   "source": [
    "undersample_cm = confusion_matrix(y_test, clf.predict(X_test))\n",
    "labels = ['No Termination/Liquidation', 'Termination/Liquidation']\n",
    "plot_confusion_matrix(undersample_cm, labels, title=\"Confusion Matrix\", cmap=plt.cm.Reds)"
   ]
  },
  {
   "cell_type": "code",
   "execution_count": 32,
   "id": "5c4879dc",
   "metadata": {},
   "outputs": [
    {
     "data": {
      "text/plain": [
       "0    44980\n",
       "1      657\n",
       "Name: y_TL, dtype: int64"
      ]
     },
     "execution_count": 32,
     "metadata": {},
     "output_type": "execute_result"
    }
   ],
   "source": [
    "y_test.value_counts()"
   ]
  },
  {
   "cell_type": "markdown",
   "id": "32639450",
   "metadata": {},
   "source": [
    "# Fully connected Neural Network"
   ]
  },
  {
   "cell_type": "code",
   "execution_count": 256,
   "id": "7a63efbf",
   "metadata": {},
   "outputs": [],
   "source": [
    "class_weight = {0: 1.,\n",
    "                1: 73.}"
   ]
  },
  {
   "cell_type": "code",
   "execution_count": 82,
   "id": "e2419f99",
   "metadata": {},
   "outputs": [],
   "source": [
    "# fully connected nn\n",
    "\n",
    "def build_model(learning_rate, sizes):\n",
    "    model = tf.keras.models.Sequential()\n",
    "    for s in sizes:\n",
    "        model.add(tf.keras.layers.Dense(units=s, activation=\"relu\", kernel_regularizer='l2'))\n",
    "        model.add(tf.keras.layers.Dropout(.1))    \n",
    "    model.add(tf.keras.layers.Dense(1, activation='sigmoid'))\n",
    "    model.compile(optimizer=tf.keras.optimizers.Adam(learning_rate=learning_rate),\n",
    "                loss=tf.keras.losses.BinaryCrossentropy(from_logits=False),\n",
    "                metrics=['accuracy', tf.keras.metrics.AUC()])\n",
    "\n",
    "    return model\n",
    "\n",
    "\n",
    "def train_model(model, feature, label, val_feature, val_label, epochs, batch_size):#, class_weight):\n",
    "  es = EarlyStopping(monitor='val_accuracy', \n",
    "                                   mode='max', \n",
    "                                   patience=10,\n",
    "                                   restore_best_weights=True)\n",
    "  history = model.fit(x=feature,\n",
    "                      y=label,\n",
    "                      validation_data=(val_feature, val_label),\n",
    "                      callbacks=[es],\n",
    "                      batch_size=batch_size,\n",
    "                      epochs=epochs)#,\n",
    "                     #class_weight=class_weight)\n",
    "\n",
    "  trained_weight = model.get_weights()[0]\n",
    "  trained_bias = model.get_weights()[1]\n",
    "\n",
    "  epochs = history.epoch\n",
    "  hist = pd.DataFrame(history.history)\n",
    "  accuracy = hist[\"accuracy\"]\n",
    "  val_accuracy = hist['val_accuracy']\n",
    "  return trained_weight, trained_bias, epochs, accuracy, val_accuracy, hist"
   ]
  },
  {
   "cell_type": "code",
   "execution_count": 83,
   "id": "43557cb6",
   "metadata": {},
   "outputs": [
    {
     "name": "stdout",
     "output_type": "stream",
     "text": [
      "Epoch 1/300\n",
      "577/577 [==============================] - 3s 4ms/step - loss: 0.7945 - accuracy: 0.6528 - auc_1: 0.7085 - val_loss: 0.6431 - val_accuracy: 0.7337 - val_auc_1: 0.6850\n",
      "Epoch 2/300\n",
      "577/577 [==============================] - 2s 3ms/step - loss: 0.6226 - accuracy: 0.6953 - auc_1: 0.7615 - val_loss: 0.5967 - val_accuracy: 0.7430 - val_auc_1: 0.6735\n",
      "Epoch 3/300\n",
      "577/577 [==============================] - 2s 3ms/step - loss: 0.5923 - accuracy: 0.7216 - auc_1: 0.7969 - val_loss: 0.5940 - val_accuracy: 0.7446 - val_auc_1: 0.6597\n",
      "Epoch 4/300\n",
      "577/577 [==============================] - 2s 3ms/step - loss: 0.5713 - accuracy: 0.7432 - auc_1: 0.8233 - val_loss: 0.5579 - val_accuracy: 0.7781 - val_auc_1: 0.6532\n",
      "Epoch 5/300\n",
      "577/577 [==============================] - 2s 3ms/step - loss: 0.5532 - accuracy: 0.7588 - auc_1: 0.8410 - val_loss: 0.5394 - val_accuracy: 0.7907 - val_auc_1: 0.6441\n",
      "Epoch 6/300\n",
      "577/577 [==============================] - 2s 3ms/step - loss: 0.5407 - accuracy: 0.7687 - auc_1: 0.8523 - val_loss: 0.5386 - val_accuracy: 0.7878 - val_auc_1: 0.6346\n",
      "Epoch 7/300\n",
      "577/577 [==============================] - 2s 3ms/step - loss: 0.5283 - accuracy: 0.7783 - auc_1: 0.8619 - val_loss: 0.5247 - val_accuracy: 0.7988 - val_auc_1: 0.6342\n",
      "Epoch 8/300\n",
      "577/577 [==============================] - 2s 3ms/step - loss: 0.5202 - accuracy: 0.7846 - auc_1: 0.8679 - val_loss: 0.5132 - val_accuracy: 0.8039 - val_auc_1: 0.6223\n",
      "Epoch 9/300\n",
      "577/577 [==============================] - 2s 3ms/step - loss: 0.5107 - accuracy: 0.7918 - auc_1: 0.8743 - val_loss: 0.5143 - val_accuracy: 0.8027 - val_auc_1: 0.6207\n",
      "Epoch 10/300\n",
      "577/577 [==============================] - 2s 3ms/step - loss: 0.5035 - accuracy: 0.7958 - auc_1: 0.8787 - val_loss: 0.5087 - val_accuracy: 0.8016 - val_auc_1: 0.6199\n",
      "Epoch 11/300\n",
      "577/577 [==============================] - 2s 3ms/step - loss: 0.4955 - accuracy: 0.8014 - auc_1: 0.8833 - val_loss: 0.5150 - val_accuracy: 0.7949 - val_auc_1: 0.6156\n",
      "Epoch 12/300\n",
      "577/577 [==============================] - 2s 3ms/step - loss: 0.4901 - accuracy: 0.8050 - auc_1: 0.8863 - val_loss: 0.5065 - val_accuracy: 0.8017 - val_auc_1: 0.6046\n",
      "Epoch 13/300\n",
      "577/577 [==============================] - 2s 3ms/step - loss: 0.4822 - accuracy: 0.8098 - auc_1: 0.8904 - val_loss: 0.4788 - val_accuracy: 0.8189 - val_auc_1: 0.6119\n",
      "Epoch 14/300\n",
      "577/577 [==============================] - 2s 3ms/step - loss: 0.4771 - accuracy: 0.8118 - auc_1: 0.8929 - val_loss: 0.4854 - val_accuracy: 0.8147 - val_auc_1: 0.6162\n",
      "Epoch 15/300\n",
      "577/577 [==============================] - 2s 3ms/step - loss: 0.4727 - accuracy: 0.8146 - auc_1: 0.8954 - val_loss: 0.4792 - val_accuracy: 0.8178 - val_auc_1: 0.5975\n",
      "Epoch 16/300\n",
      "577/577 [==============================] - 2s 3ms/step - loss: 0.4651 - accuracy: 0.8184 - auc_1: 0.8991 - val_loss: 0.4734 - val_accuracy: 0.8244 - val_auc_1: 0.6034\n",
      "Epoch 17/300\n",
      "577/577 [==============================] - 2s 3ms/step - loss: 0.4615 - accuracy: 0.8206 - auc_1: 0.9009 - val_loss: 0.4574 - val_accuracy: 0.8280 - val_auc_1: 0.5997\n",
      "Epoch 18/300\n",
      "577/577 [==============================] - 2s 3ms/step - loss: 0.4555 - accuracy: 0.8230 - auc_1: 0.9034 - val_loss: 0.4572 - val_accuracy: 0.8332 - val_auc_1: 0.6080\n",
      "Epoch 19/300\n",
      "577/577 [==============================] - 2s 3ms/step - loss: 0.4594 - accuracy: 0.8227 - auc_1: 0.9023 - val_loss: 0.4678 - val_accuracy: 0.8240 - val_auc_1: 0.5939\n",
      "Epoch 20/300\n",
      "577/577 [==============================] - 2s 3ms/step - loss: 0.4502 - accuracy: 0.8267 - auc_1: 0.9056 - val_loss: 0.4544 - val_accuracy: 0.8312 - val_auc_1: 0.6027\n",
      "Epoch 21/300\n",
      "577/577 [==============================] - 2s 3ms/step - loss: 0.4451 - accuracy: 0.8301 - auc_1: 0.9081 - val_loss: 0.4519 - val_accuracy: 0.8349 - val_auc_1: 0.5949\n",
      "Epoch 22/300\n",
      "577/577 [==============================] - 2s 3ms/step - loss: 0.4436 - accuracy: 0.8310 - auc_1: 0.9086 - val_loss: 0.4675 - val_accuracy: 0.8246 - val_auc_1: 0.5832\n",
      "Epoch 23/300\n",
      "577/577 [==============================] - 2s 3ms/step - loss: 0.4391 - accuracy: 0.8329 - auc_1: 0.9106 - val_loss: 0.4725 - val_accuracy: 0.8210 - val_auc_1: 0.5873\n",
      "Epoch 24/300\n",
      "577/577 [==============================] - 2s 3ms/step - loss: 0.4400 - accuracy: 0.8333 - auc_1: 0.9103 - val_loss: 0.4677 - val_accuracy: 0.8259 - val_auc_1: 0.5860\n",
      "Epoch 25/300\n",
      "577/577 [==============================] - 2s 3ms/step - loss: 0.4329 - accuracy: 0.8363 - auc_1: 0.9129 - val_loss: 0.4795 - val_accuracy: 0.8164 - val_auc_1: 0.5992\n",
      "Epoch 26/300\n",
      "577/577 [==============================] - 2s 3ms/step - loss: 0.4306 - accuracy: 0.8382 - auc_1: 0.9139 - val_loss: 0.4846 - val_accuracy: 0.8098 - val_auc_1: 0.5842\n",
      "Epoch 27/300\n",
      "577/577 [==============================] - 2s 3ms/step - loss: 0.4306 - accuracy: 0.8379 - auc_1: 0.9138 - val_loss: 0.4645 - val_accuracy: 0.8286 - val_auc_1: 0.5883\n",
      "Epoch 28/300\n",
      "577/577 [==============================] - 2s 3ms/step - loss: 0.4279 - accuracy: 0.8393 - auc_1: 0.9153 - val_loss: 0.4684 - val_accuracy: 0.8240 - val_auc_1: 0.5894\n",
      "Epoch 29/300\n",
      "577/577 [==============================] - 2s 3ms/step - loss: 0.4244 - accuracy: 0.8408 - auc_1: 0.9167 - val_loss: 0.4687 - val_accuracy: 0.8200 - val_auc_1: 0.5800\n",
      "Epoch 30/300\n",
      "577/577 [==============================] - 2s 3ms/step - loss: 0.4230 - accuracy: 0.8421 - auc_1: 0.9173 - val_loss: 0.4717 - val_accuracy: 0.8221 - val_auc_1: 0.5853\n",
      "Epoch 31/300\n",
      "577/577 [==============================] - 2s 3ms/step - loss: 0.4187 - accuracy: 0.8445 - auc_1: 0.9192 - val_loss: 0.4693 - val_accuracy: 0.8228 - val_auc_1: 0.5828\n"
     ]
    }
   ],
   "source": [
    "# fit model - 2 hidden layers\n",
    "learning_rate=0.0005\n",
    "epochs= 300\n",
    "my_batch_size=500\n",
    "hidden_sizes = [20,20]\n",
    "NN_2HL = build_model(learning_rate, hidden_sizes)\n",
    "trained_weight, trained_bias, epochs, accuracy, val_accuracy, hist = train_model(NN_2HL, X_over, y1_over, X_val, y_val, epochs, my_batch_size)#, class_weight)"
   ]
  },
  {
   "cell_type": "code",
   "execution_count": 84,
   "id": "7fce591c",
   "metadata": {},
   "outputs": [
    {
     "name": "stdout",
     "output_type": "stream",
     "text": [
      "Model: \"sequential_7\"\n",
      "_________________________________________________________________\n",
      "Layer (type)                 Output Shape              Param #   \n",
      "=================================================================\n",
      "dense_26 (Dense)             (None, 20)                10840     \n",
      "_________________________________________________________________\n",
      "dropout_2 (Dropout)          (None, 20)                0         \n",
      "_________________________________________________________________\n",
      "dense_27 (Dense)             (None, 20)                420       \n",
      "_________________________________________________________________\n",
      "dropout_3 (Dropout)          (None, 20)                0         \n",
      "_________________________________________________________________\n",
      "dense_28 (Dense)             (None, 1)                 21        \n",
      "=================================================================\n",
      "Total params: 11,281\n",
      "Trainable params: 11,281\n",
      "Non-trainable params: 0\n",
      "_________________________________________________________________\n"
     ]
    }
   ],
   "source": [
    "NN_2HL.summary()"
   ]
  },
  {
   "cell_type": "code",
   "execution_count": 85,
   "id": "ae125a91",
   "metadata": {},
   "outputs": [
    {
     "data": {
      "image/png": "[encoded data removed]",
      "text/plain": [
       "<Figure size 432x288 with 1 Axes>"
      ]
     },
     "metadata": {
      "needs_background": "light"
     },
     "output_type": "display_data"
    }
   ],
   "source": [
    "plot_the_accuracy(epochs, accuracy, val_accuracy)"
   ]
  },
  {
   "cell_type": "code",
   "execution_count": 86,
   "id": "8feb8245",
   "metadata": {},
   "outputs": [
    {
     "data": {
      "image/png": "[encoded data removed]",
      "text/plain": [
       "<Figure size 432x288 with 1 Axes>"
      ]
     },
     "metadata": {
      "needs_background": "light"
     },
     "output_type": "display_data"
    }
   ],
   "source": [
    "plot_the_model(y_test, NN_2HL.predict(X_test))"
   ]
  },
  {
   "cell_type": "code",
   "execution_count": 98,
   "id": "a5aa6315",
   "metadata": {},
   "outputs": [],
   "source": [
    "y_test = np.asarray(y_test).astype('float32').reshape((-1,1))"
   ]
  },
  {
   "cell_type": "code",
   "execution_count": 110,
   "id": "35158305",
   "metadata": {},
   "outputs": [
    {
     "data": {
      "image/png": "[encoded data removed]",
      "text/plain": [
       "<Figure size 720x576 with 1 Axes>"
      ]
     },
     "metadata": {
      "needs_background": "light"
     },
     "output_type": "display_data"
    }
   ],
   "source": [
    "plot_the_prob(NN_2HL, X_test, y_test)"
   ]
  },
  {
   "cell_type": "code",
   "execution_count": 89,
   "id": "cf228e36",
   "metadata": {},
   "outputs": [
    {
     "data": {
      "image/png": "[encoded data removed]",
      "text/plain": [
       "<Figure size 432x288 with 1 Axes>"
      ]
     },
     "metadata": {
      "needs_background": "light"
     },
     "output_type": "display_data"
    }
   ],
   "source": [
    "plot_the_loss(epochs, hist['loss'], hist['val_loss'])"
   ]
  },
  {
   "cell_type": "code",
   "execution_count": 90,
   "id": "42139a05",
   "metadata": {},
   "outputs": [
    {
     "name": "stdout",
     "output_type": "stream",
     "text": [
      "[[44980     0]\n",
      " [  657     0]]\n"
     ]
    },
    {
     "data": {
      "image/png": "[encoded data removed]",
      "text/plain": [
       "<Figure size 432x288 with 2 Axes>"
      ]
     },
     "metadata": {
      "needs_background": "light"
     },
     "output_type": "display_data"
    }
   ],
   "source": [
    "predict_x = NN_2HL.predict(X_test)\n",
    "classes_x = np.argmax(predict_x,axis=1)\n",
    "undersample_cm = confusion_matrix(y_test, classes_x)\n",
    "labels = ['No Termination/Liquidation', 'Termination/Liquidation']\n",
    "plot_confusion_matrix(undersample_cm, labels, title=\"Confusion Matrix\", cmap=plt.cm.Reds)"
   ]
  },
  {
   "cell_type": "code",
   "execution_count": 91,
   "id": "3418444f",
   "metadata": {},
   "outputs": [
    {
     "name": "stdout",
     "output_type": "stream",
     "text": [
      "1427/1427 [==============================] - 2s 1ms/step - loss: 0.4378 - accuracy: 0.8412 - auc_1: 0.6185\n"
     ]
    },
    {
     "data": {
      "text/plain": [
       "[0.43780434131622314, 0.8412033915519714, 0.6184842586517334]"
      ]
     },
     "execution_count": 91,
     "metadata": {},
     "output_type": "execute_result"
    }
   ],
   "source": [
    "# evaluate on test set\n",
    "NN_2HL.evaluate(X_test, y_test)"
   ]
  },
  {
   "cell_type": "code",
   "execution_count": 138,
   "id": "7c3517aa",
   "metadata": {},
   "outputs": [],
   "source": [
    "# # predict probability\n",
    "# def build_model(learning_rate, sizes):\n",
    "#     model = tf.keras.models.Sequential()\n",
    "#     for s in sizes:\n",
    "#         model.add(tf.keras.layers.Dense(units=s, activation=\"relu\", kernel_regularizer='l2'))\n",
    "#         model.add(tf.keras.layers.Dropout(.2))    \n",
    "#     model.add(tf.keras.layers.Dense(2, activation='sigmoid'))\n",
    "#     model.compile(optimizer=tf.keras.optimizers.Adam(learning_rate=learning_rate),\n",
    "#                 loss=tf.keras.losses.SparseCategoricalCrossentropy(from_logits=False),\n",
    "#                 metrics=['accuracy'])\n",
    "\n",
    "#     return model\n",
    "\n",
    "\n",
    "# def train_model(model, feature, label, val_feature, val_label, epochs, batch_size):\n",
    "#   es = EarlyStopping(monitor='val_accuracy', \n",
    "#                                    mode='max', \n",
    "#                                    patience=10,\n",
    "#                                    restore_best_weights=True)\n",
    "#   history = model.fit(x=feature,\n",
    "#                       y=label,\n",
    "#                       validation_data=(val_feature, val_label),\n",
    "#                       callbacks=[es],\n",
    "#                       batch_size=batch_size,\n",
    "#                       epochs=epochs)\n",
    "\n",
    "#   trained_weight = model.get_weights()[0]\n",
    "#   trained_bias = model.get_weights()[1]\n",
    "\n",
    "#   epochs = history.epoch\n",
    "#   hist = pd.DataFrame(history.history)\n",
    "#   accuracy = hist[\"accuracy\"]\n",
    "#   val_accuracy = hist['val_accuracy']\n",
    "#   return trained_weight, trained_bias, epochs, accuracy, val_accuracy, hist"
   ]
  },
  {
   "cell_type": "code",
   "execution_count": 111,
   "id": "b45dc99c",
   "metadata": {},
   "outputs": [],
   "source": [
    "# predict probability\n",
    "def build_model(learning_rate, sizes):\n",
    "    model = tf.keras.models.Sequential()\n",
    "    for s in sizes:\n",
    "        model.add(tf.keras.layers.Dense(units=s, activation=\"relu\", kernel_regularizer='l1'))\n",
    "    #model.add(tf.keras.layers.Dropout(.1))    \n",
    "    model.add(tf.keras.layers.Dense(2, activation='softmax'))\n",
    "    model.compile(optimizer=tf.keras.optimizers.Adam(learning_rate=learning_rate),\n",
    "                loss=tf.keras.losses.SparseCategoricalCrossentropy(),\n",
    "                metrics=['accuracy'])\n",
    "\n",
    "    return model\n",
    "\n",
    "\n",
    "def train_model(model, feature, label, val_feature, val_label, epochs, batch_size):\n",
    "  es = EarlyStopping(monitor='val_accuracy', \n",
    "                                   mode='max', \n",
    "                                   patience=10,\n",
    "                                   restore_best_weights=True)\n",
    "  history = model.fit(x=feature,\n",
    "                      y=label,\n",
    "                      validation_data=(val_feature, val_label),\n",
    "                      callbacks=[es],\n",
    "                      batch_size=batch_size,\n",
    "                      epochs=epochs,\n",
    "                     shuffle=True)\n",
    "\n",
    "  trained_weight = model.get_weights()[0]\n",
    "  trained_bias = model.get_weights()[1]\n",
    "\n",
    "  epochs = history.epoch\n",
    "  hist = pd.DataFrame(history.history)\n",
    "  accuracy = hist[\"accuracy\"]\n",
    "  val_accuracy = hist['val_accuracy']\n",
    "  return trained_weight, trained_bias, epochs, accuracy, val_accuracy, hist"
   ]
  },
  {
   "cell_type": "code",
   "execution_count": 112,
   "id": "cd88dbf9",
   "metadata": {},
   "outputs": [],
   "source": [
    "# y1_over = np.asarray(y1_over).astype('float32').reshape((-1,1))\n",
    "# y_val = np.asarray(y_val).astype('float32').reshape((-1,1))"
   ]
  },
  {
   "cell_type": "code",
   "execution_count": 113,
   "id": "98799f57",
   "metadata": {},
   "outputs": [
    {
     "name": "stdout",
     "output_type": "stream",
     "text": [
      "Epoch 1/100\n",
      "97/97 [==============================] - 1s 7ms/step - loss: 9.6488 - accuracy: 0.4930 - val_loss: 8.9049 - val_accuracy: 0.4285\n",
      "Epoch 2/100\n",
      "97/97 [==============================] - 0s 5ms/step - loss: 8.1410 - accuracy: 0.5271 - val_loss: 7.4594 - val_accuracy: 0.5135\n",
      "Epoch 3/100\n",
      "97/97 [==============================] - 0s 5ms/step - loss: 6.7853 - accuracy: 0.5524 - val_loss: 6.1725 - val_accuracy: 0.5989\n",
      "Epoch 4/100\n",
      "97/97 [==============================] - 0s 5ms/step - loss: 5.5809 - accuracy: 0.5743 - val_loss: 5.0412 - val_accuracy: 0.6704\n",
      "Epoch 5/100\n",
      "97/97 [==============================] - 0s 5ms/step - loss: 4.5287 - accuracy: 0.5914 - val_loss: 4.0645 - val_accuracy: 0.7216\n",
      "Epoch 6/100\n",
      "97/97 [==============================] - 0s 5ms/step - loss: 3.6273 - accuracy: 0.6016 - val_loss: 3.2359 - val_accuracy: 0.7564\n",
      "Epoch 7/100\n",
      "97/97 [==============================] - 0s 5ms/step - loss: 2.8763 - accuracy: 0.6096 - val_loss: 2.5533 - val_accuracy: 0.7727\n",
      "Epoch 8/100\n",
      "97/97 [==============================] - 0s 5ms/step - loss: 2.2779 - accuracy: 0.6138 - val_loss: 2.0239 - val_accuracy: 0.7706\n",
      "Epoch 9/100\n",
      "97/97 [==============================] - 0s 5ms/step - loss: 1.8297 - accuracy: 0.6137 - val_loss: 1.6462 - val_accuracy: 0.7684\n",
      "Epoch 10/100\n",
      "97/97 [==============================] - 0s 5ms/step - loss: 1.5272 - accuracy: 0.6146 - val_loss: 1.4130 - val_accuracy: 0.7652\n",
      "Epoch 11/100\n",
      "97/97 [==============================] - 0s 5ms/step - loss: 1.3660 - accuracy: 0.6140 - val_loss: 1.3147 - val_accuracy: 0.7630\n",
      "Epoch 12/100\n",
      "97/97 [==============================] - 0s 5ms/step - loss: 1.2935 - accuracy: 0.6132 - val_loss: 1.2521 - val_accuracy: 0.7604\n",
      "Epoch 13/100\n",
      "97/97 [==============================] - 0s 5ms/step - loss: 1.2355 - accuracy: 0.6147 - val_loss: 1.1969 - val_accuracy: 0.7612\n",
      "Epoch 14/100\n",
      "97/97 [==============================] - 0s 5ms/step - loss: 1.1810 - accuracy: 0.6150 - val_loss: 1.1465 - val_accuracy: 0.7605\n",
      "Epoch 15/100\n",
      "97/97 [==============================] - 0s 5ms/step - loss: 1.1291 - accuracy: 0.6154 - val_loss: 1.0950 - val_accuracy: 0.7635\n",
      "Epoch 16/100\n",
      "97/97 [==============================] - 0s 5ms/step - loss: 1.0800 - accuracy: 0.6162 - val_loss: 1.0478 - val_accuracy: 0.7647\n",
      "Epoch 17/100\n",
      "97/97 [==============================] - 0s 5ms/step - loss: 1.0338 - accuracy: 0.6165 - val_loss: 1.0036 - val_accuracy: 0.7647\n"
     ]
    }
   ],
   "source": [
    "learning_rate=0.0001\n",
    "epochs=100\n",
    "my_batch_size=3000\n",
    "hidden_sizes = [30, 30]\n",
    "NN_2HL_prob = build_model(learning_rate, hidden_sizes)\n",
    "trained_weight, trained_bias, epochs, accuracy, val_accuracy, hist = train_model(NN_2HL_prob, X_over, y1_over, X_val, y_val, epochs, my_batch_size)"
   ]
  },
  {
   "cell_type": "code",
   "execution_count": 114,
   "id": "f94b44b0",
   "metadata": {},
   "outputs": [
    {
     "data": {
      "image/png": "[encoded data removed]",
      "text/plain": [
       "<Figure size 432x288 with 1 Axes>"
      ]
     },
     "metadata": {
      "needs_background": "light"
     },
     "output_type": "display_data"
    }
   ],
   "source": [
    "plot_the_accuracy(epochs, accuracy, val_accuracy)"
   ]
  },
  {
   "cell_type": "code",
   "execution_count": 115,
   "id": "7f5ec73c",
   "metadata": {},
   "outputs": [
    {
     "data": {
      "image/png": "[encoded data removed]",
      "text/plain": [
       "<Figure size 432x288 with 1 Axes>"
      ]
     },
     "metadata": {
      "needs_background": "light"
     },
     "output_type": "display_data"
    }
   ],
   "source": [
    "plot_the_loss(epochs, hist['loss'], hist['val_loss'])"
   ]
  },
  {
   "cell_type": "code",
   "execution_count": 116,
   "id": "884ea078",
   "metadata": {},
   "outputs": [
    {
     "data": {
      "image/png": "[encoded data removed]",
      "text/plain": [
       "<Figure size 720x576 with 1 Axes>"
      ]
     },
     "metadata": {
      "needs_background": "light"
     },
     "output_type": "display_data"
    }
   ],
   "source": [
    "plot_the_prob_1(NN_2HL_prob, X_test, y_test)"
   ]
  },
  {
   "cell_type": "code",
   "execution_count": 117,
   "id": "747a16d1",
   "metadata": {},
   "outputs": [
    {
     "name": "stdout",
     "output_type": "stream",
     "text": [
      "[[34893 10087]\n",
      " [  380   277]]\n"
     ]
    },
    {
     "data": {
      "image/png": "[encoded data removed]",
      "text/plain": [
       "<Figure size 432x288 with 2 Axes>"
      ]
     },
     "metadata": {
      "needs_background": "light"
     },
     "output_type": "display_data"
    }
   ],
   "source": [
    "predict_x = NN_2HL_prob.predict(X_test)\n",
    "classes_x = np.argmax(predict_x,axis=1)\n",
    "undersample_cm = confusion_matrix(y_test, classes_x)\n",
    "labels = ['No Termination/Liquidation', 'Termination/Liquidation']\n",
    "plot_confusion_matrix(undersample_cm, labels, title=\"Confusion Matrix\", cmap=plt.cm.Reds)"
   ]
  },
  {
   "cell_type": "code",
   "execution_count": 118,
   "id": "536babdf",
   "metadata": {},
   "outputs": [
    {
     "name": "stdout",
     "output_type": "stream",
     "text": [
      "1427/1427 [==============================] - 2s 1ms/step - loss: 2.5539 - accuracy: 0.7706\n"
     ]
    },
    {
     "data": {
      "text/plain": [
       "[2.5538864135742188, 0.7706466317176819]"
      ]
     },
     "execution_count": 118,
     "metadata": {},
     "output_type": "execute_result"
    }
   ],
   "source": [
    "# evaluate on test set\n",
    "NN_2HL_prob.evaluate(X_test, y_test)"
   ]
  },
  {
   "cell_type": "code",
   "execution_count": 119,
   "id": "0047f9db",
   "metadata": {},
   "outputs": [],
   "source": [
    "# predict probability\n",
    "def build_model(learning_rate, sizes):\n",
    "    model = tf.keras.models.Sequential()\n",
    "    for s in sizes:\n",
    "        model.add(tf.keras.layers.Dense(units=s, activation=\"relu\", kernel_regularizer='l2'))\n",
    "    #model.add(tf.keras.layers.Dropout(.2))    \n",
    "    model.add(tf.keras.layers.Dense(2, activation='softmax'))\n",
    "    model.compile(optimizer=tf.keras.optimizers.Adam(learning_rate=learning_rate),\n",
    "                loss=tf.keras.losses.SparseCategoricalCrossentropy(),\n",
    "                metrics=['accuracy'])\n",
    "\n",
    "    return model\n",
    "\n",
    "\n",
    "def train_model(model, feature, label, val_feature, val_label, epochs, batch_size):\n",
    "  es = EarlyStopping(monitor='val_accuracy', \n",
    "                                   mode='max', \n",
    "                                   patience=10,\n",
    "                                   restore_best_weights=True)\n",
    "  history = model.fit(x=feature,\n",
    "                      y=label,\n",
    "                      validation_data=(val_feature, val_label),\n",
    "                      callbacks=[es],\n",
    "                      batch_size=batch_size,\n",
    "                      epochs=epochs,\n",
    "                     shuffle=True)\n",
    "\n",
    "  trained_weight = model.get_weights()[0]\n",
    "  trained_bias = model.get_weights()[1]\n",
    "\n",
    "  epochs = history.epoch\n",
    "  hist = pd.DataFrame(history.history)\n",
    "  accuracy = hist[\"accuracy\"]\n",
    "  val_accuracy = hist['val_accuracy']\n",
    "  return trained_weight, trained_bias, epochs, accuracy, val_accuracy, hist"
   ]
  },
  {
   "cell_type": "code",
   "execution_count": 120,
   "id": "1a260d4b",
   "metadata": {},
   "outputs": [
    {
     "name": "stdout",
     "output_type": "stream",
     "text": [
      "Epoch 1/300\n",
      "97/97 [==============================] - 1s 7ms/step - loss: 1.1920 - accuracy: 0.5414 - val_loss: 1.1726 - val_accuracy: 0.5383\n",
      "Epoch 2/300\n",
      "97/97 [==============================] - 0s 4ms/step - loss: 1.1221 - accuracy: 0.5918 - val_loss: 1.1098 - val_accuracy: 0.6736\n",
      "Epoch 3/300\n",
      "97/97 [==============================] - 0s 5ms/step - loss: 1.0620 - accuracy: 0.6160 - val_loss: 1.0493 - val_accuracy: 0.7376\n",
      "Epoch 4/300\n",
      "97/97 [==============================] - 0s 5ms/step - loss: 1.0107 - accuracy: 0.6271 - val_loss: 0.9988 - val_accuracy: 0.7580\n",
      "Epoch 5/300\n",
      "97/97 [==============================] - 0s 5ms/step - loss: 0.9672 - accuracy: 0.6346 - val_loss: 0.9536 - val_accuracy: 0.7692\n",
      "Epoch 6/300\n",
      "97/97 [==============================] - 0s 5ms/step - loss: 0.9297 - accuracy: 0.6434 - val_loss: 0.9174 - val_accuracy: 0.7673\n",
      "Epoch 7/300\n",
      "97/97 [==============================] - 0s 5ms/step - loss: 0.8972 - accuracy: 0.6509 - val_loss: 0.8835 - val_accuracy: 0.7627\n",
      "Epoch 8/300\n",
      "97/97 [==============================] - 0s 5ms/step - loss: 0.8691 - accuracy: 0.6589 - val_loss: 0.8566 - val_accuracy: 0.7543\n",
      "Epoch 9/300\n",
      "97/97 [==============================] - 0s 5ms/step - loss: 0.8446 - accuracy: 0.6671 - val_loss: 0.8325 - val_accuracy: 0.7521\n",
      "Epoch 10/300\n",
      "97/97 [==============================] - 0s 4ms/step - loss: 0.8229 - accuracy: 0.6704 - val_loss: 0.8114 - val_accuracy: 0.7468\n",
      "Epoch 11/300\n",
      "97/97 [==============================] - 0s 5ms/step - loss: 0.8036 - accuracy: 0.6761 - val_loss: 0.7932 - val_accuracy: 0.7417\n",
      "Epoch 12/300\n",
      "97/97 [==============================] - 0s 5ms/step - loss: 0.7865 - accuracy: 0.6811 - val_loss: 0.7745 - val_accuracy: 0.7407\n",
      "Epoch 13/300\n",
      "97/97 [==============================] - 0s 5ms/step - loss: 0.7712 - accuracy: 0.6839 - val_loss: 0.7599 - val_accuracy: 0.7399\n",
      "Epoch 14/300\n",
      "97/97 [==============================] - 0s 4ms/step - loss: 0.7573 - accuracy: 0.6861 - val_loss: 0.7479 - val_accuracy: 0.7380\n",
      "Epoch 15/300\n",
      "97/97 [==============================] - 0s 5ms/step - loss: 0.7448 - accuracy: 0.6894 - val_loss: 0.7350 - val_accuracy: 0.7383\n"
     ]
    }
   ],
   "source": [
    "# fit model - 3 hidden layers\n",
    "learning_rate=0.0001\n",
    "epochs=300\n",
    "my_batch_size=3000\n",
    "hidden_sizes = [10, 20, 20]\n",
    "NN_3HL = build_model(learning_rate, hidden_sizes)\n",
    "trained_weight, trained_bias, epochs, accuracy, val_accuracy, hist = train_model(NN_3HL, X_over, y1_over, X_val, y_val, epochs, my_batch_size)"
   ]
  },
  {
   "cell_type": "code",
   "execution_count": 76,
   "id": "81aaea82",
   "metadata": {},
   "outputs": [
    {
     "name": "stdout",
     "output_type": "stream",
     "text": [
      "Model: \"sequential_6\"\n",
      "_________________________________________________________________\n",
      "Layer (type)                 Output Shape              Param #   \n",
      "=================================================================\n",
      "dense_22 (Dense)             (None, 10)                5420      \n",
      "_________________________________________________________________\n",
      "dense_23 (Dense)             (None, 20)                220       \n",
      "_________________________________________________________________\n",
      "dense_24 (Dense)             (None, 20)                420       \n",
      "_________________________________________________________________\n",
      "dense_25 (Dense)             (None, 2)                 42        \n",
      "=================================================================\n",
      "Total params: 6,102\n",
      "Trainable params: 6,102\n",
      "Non-trainable params: 0\n",
      "_________________________________________________________________\n"
     ]
    }
   ],
   "source": [
    "NN_3HL.summary()"
   ]
  },
  {
   "cell_type": "code",
   "execution_count": 77,
   "id": "cdb5fcba",
   "metadata": {},
   "outputs": [
    {
     "data": {
      "image/png": "[encoded data removed]",
      "text/plain": [
       "<Figure size 432x288 with 1 Axes>"
      ]
     },
     "metadata": {
      "needs_background": "light"
     },
     "output_type": "display_data"
    }
   ],
   "source": [
    "plot_the_accuracy(epochs, accuracy, val_accuracy)"
   ]
  },
  {
   "cell_type": "code",
   "execution_count": 78,
   "id": "19c3c0b6",
   "metadata": {},
   "outputs": [
    {
     "data": {
      "image/png": "[encoded data removed]",
      "text/plain": [
       "<Figure size 432x288 with 1 Axes>"
      ]
     },
     "metadata": {
      "needs_background": "light"
     },
     "output_type": "display_data"
    }
   ],
   "source": [
    "plot_the_loss(epochs, hist['loss'], hist['val_loss'])"
   ]
  },
  {
   "cell_type": "code",
   "execution_count": 122,
   "id": "114e6b31",
   "metadata": {},
   "outputs": [
    {
     "name": "stdout",
     "output_type": "stream",
     "text": [
      "[[34644 10336]\n",
      " [  354   303]]\n"
     ]
    },
    {
     "data": {
      "image/png": "[encoded data removed]",
      "text/plain": [
       "<Figure size 432x288 with 2 Axes>"
      ]
     },
     "metadata": {
      "needs_background": "light"
     },
     "output_type": "display_data"
    }
   ],
   "source": [
    "predict_x = NN_3HL.predict(X_test)\n",
    "classes_x = np.argmax(predict_x,axis=1)\n",
    "undersample_cm = confusion_matrix(y_test, classes_x)\n",
    "labels = ['No Termination/Liquidation', 'Termination/Liquidation']\n",
    "plot_confusion_matrix(undersample_cm, labels, title=\"Confusion Matrix\", cmap=plt.cm.Reds)"
   ]
  },
  {
   "cell_type": "code",
   "execution_count": 121,
   "id": "b0fc07a8",
   "metadata": {},
   "outputs": [
    {
     "data": {
      "image/png": "[encoded data removed]",
      "text/plain": [
       "<Figure size 720x576 with 1 Axes>"
      ]
     },
     "metadata": {
      "needs_background": "light"
     },
     "output_type": "display_data"
    }
   ],
   "source": [
    "plot_the_prob_1(NN_3HL, X_test, y_test)"
   ]
  },
  {
   "cell_type": "code",
   "execution_count": 64,
   "id": "16a95110",
   "metadata": {},
   "outputs": [
    {
     "name": "stdout",
     "output_type": "stream",
     "text": [
      "1427/1427 [==============================] - 2s 1ms/step - loss: 0.5197 - accuracy: 0.8278\n"
     ]
    },
    {
     "data": {
      "text/plain": [
       "[0.5196577310562134, 0.8277713060379028]"
      ]
     },
     "execution_count": 64,
     "metadata": {},
     "output_type": "execute_result"
    }
   ],
   "source": [
    "# evaluate on test set\n",
    "NN_3HL.evaluate(X_test, y_test)"
   ]
  },
  {
   "cell_type": "code",
   "execution_count": null,
   "id": "94c26378",
   "metadata": {},
   "outputs": [],
   "source": []
  }
 ],
 "metadata": {
  "environment": {
   "name": "common-cpu.m75",
   "type": "gcloud",
   "uri": "gcr.io/deeplearning-platform-release/base-cpu:m75"
  },
  "kernelspec": {
   "display_name": "Python 3",
   "language": "python",
   "name": "python3"
  },
  "language_info": {
   "codemirror_mode": {
    "name": "ipython",
    "version": 3
   },
   "file_extension": ".py",
   "mimetype": "text/x-python",
   "name": "python",
   "nbconvert_exporter": "python",
   "pygments_lexer": "ipython3",
   "version": "3.7.10"
  }
 },
 "nbformat": 4,
 "nbformat_minor": 5
}
