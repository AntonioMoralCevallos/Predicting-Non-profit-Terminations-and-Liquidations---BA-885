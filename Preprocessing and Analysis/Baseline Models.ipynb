{
 "cells": [
  {
   "cell_type": "code",
   "execution_count": 1,
   "id": "0afc0038",
   "metadata": {},
   "outputs": [],
   "source": [
    "import pandas as pd\n",
    "import numpy as np\n",
    "\n",
    "from sklearn.metrics import confusion_matrix\n",
    "from sklearn import metrics\n",
    "from sklearn.model_selection import train_test_split\n",
    "\n",
    "from sklearn.ensemble import RandomForestClassifier\n",
    "from sklearn.ensemble import BaggingClassifier\n",
    "from sklearn.ensemble import GradientBoostingClassifier\n",
    "from sklearn.datasets import make_classification\n",
    "\n",
    "from imblearn.ensemble import BalancedBaggingClassifier\n",
    "from imblearn.ensemble import BalancedRandomForestClassifier\n",
    "from imblearn.ensemble import EasyEnsembleClassifier, RUSBoostClassifier"
   ]
  },
  {
   "cell_type": "code",
   "execution_count": 2,
   "id": "d6c697fb",
   "metadata": {},
   "outputs": [
    {
     "data": {
      "text/html": [
       "<div>\n",
       "<style scoped>\n",
       "    .dataframe tbody tr th:only-of-type {\n",
       "        vertical-align: middle;\n",
       "    }\n",
       "\n",
       "    .dataframe tbody tr th {\n",
       "        vertical-align: top;\n",
       "    }\n",
       "\n",
       "    .dataframe thead th {\n",
       "        text-align: right;\n",
       "    }\n",
       "</style>\n",
       "<table border=\"1\" class=\"dataframe\">\n",
       "  <thead>\n",
       "    <tr style=\"text-align: right;\">\n",
       "      <th></th>\n",
       "      <th>ein</th>\n",
       "      <th>unrelbusinccd</th>\n",
       "      <th>initiationfees</th>\n",
       "      <th>grsrcptspublicuse</th>\n",
       "      <th>grsincmembers</th>\n",
       "      <th>grsincother</th>\n",
       "      <th>totcntrbgfts</th>\n",
       "      <th>totprgmrevnue</th>\n",
       "      <th>invstmntinc</th>\n",
       "      <th>txexmptbndsproceeds</th>\n",
       "      <th>...</th>\n",
       "      <th>nonpfreayr-1_8</th>\n",
       "      <th>nonpfreayr-1_9</th>\n",
       "      <th>nonpfreayr-1_11</th>\n",
       "      <th>nonpfreayr-1_12</th>\n",
       "      <th>nonpfreayr-1_13</th>\n",
       "      <th>nonpfreayr-1_14</th>\n",
       "      <th>nonpfreayr-1_15</th>\n",
       "      <th>y_term</th>\n",
       "      <th>y_liq</th>\n",
       "      <th>y_TL</th>\n",
       "    </tr>\n",
       "  </thead>\n",
       "  <tbody>\n",
       "    <tr>\n",
       "      <th>0</th>\n",
       "      <td>910454080</td>\n",
       "      <td>0</td>\n",
       "      <td>0</td>\n",
       "      <td>0</td>\n",
       "      <td>0</td>\n",
       "      <td>0</td>\n",
       "      <td>935508</td>\n",
       "      <td>120315</td>\n",
       "      <td>7456</td>\n",
       "      <td>19969</td>\n",
       "      <td>...</td>\n",
       "      <td>0</td>\n",
       "      <td>0</td>\n",
       "      <td>0</td>\n",
       "      <td>0</td>\n",
       "      <td>0</td>\n",
       "      <td>0</td>\n",
       "      <td>0</td>\n",
       "      <td>0</td>\n",
       "      <td>0</td>\n",
       "      <td>0</td>\n",
       "    </tr>\n",
       "    <tr>\n",
       "      <th>1</th>\n",
       "      <td>111966978</td>\n",
       "      <td>0</td>\n",
       "      <td>0</td>\n",
       "      <td>0</td>\n",
       "      <td>0</td>\n",
       "      <td>0</td>\n",
       "      <td>0</td>\n",
       "      <td>5050020</td>\n",
       "      <td>153784</td>\n",
       "      <td>0</td>\n",
       "      <td>...</td>\n",
       "      <td>0</td>\n",
       "      <td>0</td>\n",
       "      <td>0</td>\n",
       "      <td>0</td>\n",
       "      <td>0</td>\n",
       "      <td>0</td>\n",
       "      <td>0</td>\n",
       "      <td>0</td>\n",
       "      <td>0</td>\n",
       "      <td>0</td>\n",
       "    </tr>\n",
       "    <tr>\n",
       "      <th>2</th>\n",
       "      <td>420660491</td>\n",
       "      <td>0</td>\n",
       "      <td>0</td>\n",
       "      <td>0</td>\n",
       "      <td>0</td>\n",
       "      <td>0</td>\n",
       "      <td>2945</td>\n",
       "      <td>11440</td>\n",
       "      <td>489</td>\n",
       "      <td>0</td>\n",
       "      <td>...</td>\n",
       "      <td>0</td>\n",
       "      <td>0</td>\n",
       "      <td>0</td>\n",
       "      <td>0</td>\n",
       "      <td>0</td>\n",
       "      <td>0</td>\n",
       "      <td>0</td>\n",
       "      <td>0</td>\n",
       "      <td>0</td>\n",
       "      <td>0</td>\n",
       "    </tr>\n",
       "    <tr>\n",
       "      <th>3</th>\n",
       "      <td>530152390</td>\n",
       "      <td>1</td>\n",
       "      <td>220425</td>\n",
       "      <td>468101</td>\n",
       "      <td>0</td>\n",
       "      <td>0</td>\n",
       "      <td>411058</td>\n",
       "      <td>2668044</td>\n",
       "      <td>29316</td>\n",
       "      <td>0</td>\n",
       "      <td>...</td>\n",
       "      <td>0</td>\n",
       "      <td>0</td>\n",
       "      <td>0</td>\n",
       "      <td>0</td>\n",
       "      <td>0</td>\n",
       "      <td>0</td>\n",
       "      <td>0</td>\n",
       "      <td>0</td>\n",
       "      <td>0</td>\n",
       "      <td>0</td>\n",
       "    </tr>\n",
       "    <tr>\n",
       "      <th>4</th>\n",
       "      <td>561547207</td>\n",
       "      <td>0</td>\n",
       "      <td>0</td>\n",
       "      <td>0</td>\n",
       "      <td>0</td>\n",
       "      <td>0</td>\n",
       "      <td>75</td>\n",
       "      <td>735052</td>\n",
       "      <td>783</td>\n",
       "      <td>0</td>\n",
       "      <td>...</td>\n",
       "      <td>0</td>\n",
       "      <td>0</td>\n",
       "      <td>0</td>\n",
       "      <td>0</td>\n",
       "      <td>0</td>\n",
       "      <td>0</td>\n",
       "      <td>0</td>\n",
       "      <td>0</td>\n",
       "      <td>0</td>\n",
       "      <td>0</td>\n",
       "    </tr>\n",
       "    <tr>\n",
       "      <th>...</th>\n",
       "      <td>...</td>\n",
       "      <td>...</td>\n",
       "      <td>...</td>\n",
       "      <td>...</td>\n",
       "      <td>...</td>\n",
       "      <td>...</td>\n",
       "      <td>...</td>\n",
       "      <td>...</td>\n",
       "      <td>...</td>\n",
       "      <td>...</td>\n",
       "      <td>...</td>\n",
       "      <td>...</td>\n",
       "      <td>...</td>\n",
       "      <td>...</td>\n",
       "      <td>...</td>\n",
       "      <td>...</td>\n",
       "      <td>...</td>\n",
       "      <td>...</td>\n",
       "      <td>...</td>\n",
       "      <td>...</td>\n",
       "      <td>...</td>\n",
       "    </tr>\n",
       "    <tr>\n",
       "      <th>266382</th>\n",
       "      <td>362882769</td>\n",
       "      <td>0</td>\n",
       "      <td>0</td>\n",
       "      <td>0</td>\n",
       "      <td>0</td>\n",
       "      <td>0</td>\n",
       "      <td>759009</td>\n",
       "      <td>96420</td>\n",
       "      <td>0</td>\n",
       "      <td>0</td>\n",
       "      <td>...</td>\n",
       "      <td>0</td>\n",
       "      <td>0</td>\n",
       "      <td>0</td>\n",
       "      <td>0</td>\n",
       "      <td>0</td>\n",
       "      <td>0</td>\n",
       "      <td>0</td>\n",
       "      <td>0</td>\n",
       "      <td>0</td>\n",
       "      <td>0</td>\n",
       "    </tr>\n",
       "    <tr>\n",
       "      <th>266383</th>\n",
       "      <td>46046569</td>\n",
       "      <td>0</td>\n",
       "      <td>0</td>\n",
       "      <td>0</td>\n",
       "      <td>0</td>\n",
       "      <td>0</td>\n",
       "      <td>474098</td>\n",
       "      <td>57374</td>\n",
       "      <td>41797</td>\n",
       "      <td>0</td>\n",
       "      <td>...</td>\n",
       "      <td>0</td>\n",
       "      <td>1</td>\n",
       "      <td>0</td>\n",
       "      <td>0</td>\n",
       "      <td>0</td>\n",
       "      <td>0</td>\n",
       "      <td>0</td>\n",
       "      <td>0</td>\n",
       "      <td>0</td>\n",
       "      <td>0</td>\n",
       "    </tr>\n",
       "    <tr>\n",
       "      <th>266384</th>\n",
       "      <td>364324153</td>\n",
       "      <td>0</td>\n",
       "      <td>0</td>\n",
       "      <td>0</td>\n",
       "      <td>0</td>\n",
       "      <td>0</td>\n",
       "      <td>361570</td>\n",
       "      <td>0</td>\n",
       "      <td>0</td>\n",
       "      <td>0</td>\n",
       "      <td>...</td>\n",
       "      <td>0</td>\n",
       "      <td>0</td>\n",
       "      <td>0</td>\n",
       "      <td>0</td>\n",
       "      <td>0</td>\n",
       "      <td>0</td>\n",
       "      <td>0</td>\n",
       "      <td>0</td>\n",
       "      <td>0</td>\n",
       "      <td>0</td>\n",
       "    </tr>\n",
       "    <tr>\n",
       "      <th>266385</th>\n",
       "      <td>591311210</td>\n",
       "      <td>0</td>\n",
       "      <td>0</td>\n",
       "      <td>0</td>\n",
       "      <td>0</td>\n",
       "      <td>0</td>\n",
       "      <td>262048</td>\n",
       "      <td>347891</td>\n",
       "      <td>0</td>\n",
       "      <td>0</td>\n",
       "      <td>...</td>\n",
       "      <td>0</td>\n",
       "      <td>0</td>\n",
       "      <td>0</td>\n",
       "      <td>0</td>\n",
       "      <td>0</td>\n",
       "      <td>0</td>\n",
       "      <td>0</td>\n",
       "      <td>0</td>\n",
       "      <td>0</td>\n",
       "      <td>0</td>\n",
       "    </tr>\n",
       "    <tr>\n",
       "      <th>266386</th>\n",
       "      <td>611590464</td>\n",
       "      <td>0</td>\n",
       "      <td>0</td>\n",
       "      <td>0</td>\n",
       "      <td>0</td>\n",
       "      <td>0</td>\n",
       "      <td>43802</td>\n",
       "      <td>352703</td>\n",
       "      <td>0</td>\n",
       "      <td>0</td>\n",
       "      <td>...</td>\n",
       "      <td>0</td>\n",
       "      <td>0</td>\n",
       "      <td>0</td>\n",
       "      <td>0</td>\n",
       "      <td>0</td>\n",
       "      <td>0</td>\n",
       "      <td>0</td>\n",
       "      <td>0</td>\n",
       "      <td>0</td>\n",
       "      <td>0</td>\n",
       "    </tr>\n",
       "  </tbody>\n",
       "</table>\n",
       "<p>266387 rows × 545 columns</p>\n",
       "</div>"
      ],
      "text/plain": [
       "              ein  unrelbusinccd  initiationfees  grsrcptspublicuse  \\\n",
       "0       910454080              0               0                  0   \n",
       "1       111966978              0               0                  0   \n",
       "2       420660491              0               0                  0   \n",
       "3       530152390              1          220425             468101   \n",
       "4       561547207              0               0                  0   \n",
       "...           ...            ...             ...                ...   \n",
       "266382  362882769              0               0                  0   \n",
       "266383   46046569              0               0                  0   \n",
       "266384  364324153              0               0                  0   \n",
       "266385  591311210              0               0                  0   \n",
       "266386  611590464              0               0                  0   \n",
       "\n",
       "        grsincmembers  grsincother  totcntrbgfts  totprgmrevnue  invstmntinc  \\\n",
       "0                   0            0        935508         120315         7456   \n",
       "1                   0            0             0        5050020       153784   \n",
       "2                   0            0          2945          11440          489   \n",
       "3                   0            0        411058        2668044        29316   \n",
       "4                   0            0            75         735052          783   \n",
       "...               ...          ...           ...            ...          ...   \n",
       "266382              0            0        759009          96420            0   \n",
       "266383              0            0        474098          57374        41797   \n",
       "266384              0            0        361570              0            0   \n",
       "266385              0            0        262048         347891            0   \n",
       "266386              0            0         43802         352703            0   \n",
       "\n",
       "        txexmptbndsproceeds  ...  nonpfreayr-1_8  nonpfreayr-1_9  \\\n",
       "0                     19969  ...               0               0   \n",
       "1                         0  ...               0               0   \n",
       "2                         0  ...               0               0   \n",
       "3                         0  ...               0               0   \n",
       "4                         0  ...               0               0   \n",
       "...                     ...  ...             ...             ...   \n",
       "266382                    0  ...               0               0   \n",
       "266383                    0  ...               0               1   \n",
       "266384                    0  ...               0               0   \n",
       "266385                    0  ...               0               0   \n",
       "266386                    0  ...               0               0   \n",
       "\n",
       "        nonpfreayr-1_11  nonpfreayr-1_12  nonpfreayr-1_13  nonpfreayr-1_14  \\\n",
       "0                     0                0                0                0   \n",
       "1                     0                0                0                0   \n",
       "2                     0                0                0                0   \n",
       "3                     0                0                0                0   \n",
       "4                     0                0                0                0   \n",
       "...                 ...              ...              ...              ...   \n",
       "266382                0                0                0                0   \n",
       "266383                0                0                0                0   \n",
       "266384                0                0                0                0   \n",
       "266385                0                0                0                0   \n",
       "266386                0                0                0                0   \n",
       "\n",
       "        nonpfreayr-1_15  y_term  y_liq  y_TL  \n",
       "0                     0       0      0     0  \n",
       "1                     0       0      0     0  \n",
       "2                     0       0      0     0  \n",
       "3                     0       0      0     0  \n",
       "4                     0       0      0     0  \n",
       "...                 ...     ...    ...   ...  \n",
       "266382                0       0      0     0  \n",
       "266383                0       0      0     0  \n",
       "266384                0       0      0     0  \n",
       "266385                0       0      0     0  \n",
       "266386                0       0      0     0  \n",
       "\n",
       "[266387 rows x 545 columns]"
      ]
     },
     "execution_count": 2,
     "metadata": {},
     "output_type": "execute_result"
    }
   ],
   "source": [
    "df = pd.read_csv('all_yrs_processed.csv')\n",
    "df"
   ]
  },
  {
   "cell_type": "code",
   "execution_count": 3,
   "id": "93357801",
   "metadata": {},
   "outputs": [
    {
     "data": {
      "text/plain": [
       "(228181, 545)"
      ]
     },
     "execution_count": 3,
     "metadata": {},
     "output_type": "execute_result"
    }
   ],
   "source": [
    "df = df.dropna()\n",
    "df.shape"
   ]
  },
  {
   "cell_type": "code",
   "execution_count": 4,
   "id": "0dd98f8b",
   "metadata": {},
   "outputs": [
    {
     "data": {
      "text/plain": [
       "((228181, 541), (228181, 3))"
      ]
     },
     "execution_count": 4,
     "metadata": {},
     "output_type": "execute_result"
    }
   ],
   "source": [
    "y_cols = ['y_term', 'y_liq', 'y_TL']\n",
    "\n",
    "X = df.drop(columns = y_cols).drop(columns = 'ein')\n",
    "y = df[y_cols]\n",
    "\n",
    "y1 = y['y_TL']\n",
    "yt = y['y_term']\n",
    "yl = y['y_liq']\n",
    "\n",
    "X.shape, y.shape"
   ]
  },
  {
   "cell_type": "code",
   "execution_count": 25,
   "id": "ac719dff",
   "metadata": {},
   "outputs": [
    {
     "data": {
      "text/plain": [
       "y_term    1206\n",
       "y_liq     2105\n",
       "y_TL      3181\n",
       "dtype: int64"
      ]
     },
     "execution_count": 25,
     "metadata": {},
     "output_type": "execute_result"
    }
   ],
   "source": [
    "y.sum()"
   ]
  },
  {
   "cell_type": "code",
   "execution_count": 5,
   "id": "39060b37",
   "metadata": {},
   "outputs": [
    {
     "data": {
      "text/plain": [
       "(211, 330)"
      ]
     },
     "execution_count": 5,
     "metadata": {},
     "output_type": "execute_result"
    }
   ],
   "source": [
    "cat_cols = X.nunique()[X.nunique() <=2].index\n",
    "num_cols = X.nunique()[X.nunique() > 2].index\n",
    "\n",
    "len(cat_cols), len(num_cols)"
   ]
  },
  {
   "cell_type": "code",
   "execution_count": 9,
   "id": "a34fc2b9",
   "metadata": {},
   "outputs": [
    {
     "data": {
      "text/plain": [
       "((159726, 541), (68455, 541), (159726,), (68455,))"
      ]
     },
     "execution_count": 9,
     "metadata": {},
     "output_type": "execute_result"
    }
   ],
   "source": [
    "# Train-test split\n",
    "X_train, X_test, y_train, y_test = train_test_split(X, y1, test_size=0.3,random_state = 1) # 70% training and 30% test\n",
    "X_train.shape, X_test.shape, y_train.shape, y_test.shape"
   ]
  },
  {
   "cell_type": "code",
   "execution_count": 10,
   "id": "1722f524",
   "metadata": {},
   "outputs": [
    {
     "data": {
      "text/plain": [
       "958"
      ]
     },
     "execution_count": 10,
     "metadata": {},
     "output_type": "execute_result"
    }
   ],
   "source": [
    "y_test.sum()"
   ]
  },
  {
   "cell_type": "code",
   "execution_count": 11,
   "id": "ac42370e",
   "metadata": {},
   "outputs": [
    {
     "name": "stderr",
     "output_type": "stream",
     "text": [
      "/opt/conda/lib/python3.7/site-packages/pandas/core/indexing.py:1884: SettingWithCopyWarning: \n",
      "A value is trying to be set on a copy of a slice from a DataFrame.\n",
      "Try using .loc[row_indexer,col_indexer] = value instead\n",
      "\n",
      "See the caveats in the documentation: https://pandas.pydata.org/pandas-docs/stable/user_guide/indexing.html#returning-a-view-versus-a-copy\n",
      "  self._setitem_single_column(loc, val, pi)\n"
     ]
    }
   ],
   "source": [
    "# scale data\n",
    "\n",
    "means = np.mean(np.array(X_train[num_cols]), axis=0, keepdims=True)\n",
    "stds = np.std(np.array(X_train[num_cols]), axis=0, keepdims=True)\n",
    "\n",
    "X_train.loc[:,num_cols] = (X_train[num_cols]-means)/stds\n",
    "X_test.loc[:,num_cols] = (X_test[num_cols]-means)/stds"
   ]
  },
  {
   "cell_type": "markdown",
   "id": "6abb0e7c",
   "metadata": {},
   "source": [
    "# Random Forest"
   ]
  },
  {
   "cell_type": "code",
   "execution_count": 41,
   "id": "8b347a5a",
   "metadata": {},
   "outputs": [],
   "source": [
    "rfc1 =RandomForestClassifier(criterion = 'entropy',class_weight='balanced')\n",
    "\n",
    "#Train the model using the training sets y_pred=clf.predict(X_test)\n",
    "rfc1.fit(X_train,y_train)\n",
    "\n",
    "y_predrf1 =rfc1.predict(X_test)"
   ]
  },
  {
   "cell_type": "code",
   "execution_count": 42,
   "id": "a7e6ec99",
   "metadata": {},
   "outputs": [
    {
     "data": {
      "text/plain": [
       "array([[67514,     2],\n",
       "       [  937,     2]])"
      ]
     },
     "execution_count": 42,
     "metadata": {},
     "output_type": "execute_result"
    }
   ],
   "source": [
    "cmrf1 = confusion_matrix(y_test, y_predrf1)\n",
    "cmrf1"
   ]
  },
  {
   "cell_type": "code",
   "execution_count": 43,
   "id": "bda4b0f4",
   "metadata": {},
   "outputs": [],
   "source": [
    "fpr, tpr, thresholds = metrics.roc_curve(y_test, y_predrf1)"
   ]
  },
  {
   "cell_type": "code",
   "execution_count": 44,
   "id": "4a6bceb8",
   "metadata": {},
   "outputs": [
    {
     "data": {
      "text/plain": [
       "0.5010501514223175"
      ]
     },
     "execution_count": 44,
     "metadata": {},
     "output_type": "execute_result"
    }
   ],
   "source": [
    "aucrf1 = metrics.auc(fpr, tpr)\n",
    "aucrf1"
   ]
  },
  {
   "cell_type": "markdown",
   "id": "890d12f4",
   "metadata": {},
   "source": [
    "Imbalanced learn:"
   ]
  },
  {
   "cell_type": "code",
   "execution_count": 12,
   "id": "80c9c413",
   "metadata": {},
   "outputs": [],
   "source": [
    "rfc2 = BalancedRandomForestClassifier()"
   ]
  },
  {
   "cell_type": "code",
   "execution_count": 13,
   "id": "168c9d83",
   "metadata": {},
   "outputs": [],
   "source": [
    "rfc2.fit(X_train,y_train)\n",
    "y_predrf2 =rfc2.predict(X_test)"
   ]
  },
  {
   "cell_type": "code",
   "execution_count": 14,
   "id": "fd942c35",
   "metadata": {},
   "outputs": [
    {
     "data": {
      "text/plain": [
       "array([[48276, 19221],\n",
       "       [  374,   584]])"
      ]
     },
     "execution_count": 14,
     "metadata": {},
     "output_type": "execute_result"
    }
   ],
   "source": [
    "cm = confusion_matrix(y_test, y_predrf2)\n",
    "cm"
   ]
  },
  {
   "cell_type": "code",
   "execution_count": 15,
   "id": "31c0aa9a",
   "metadata": {},
   "outputs": [
    {
     "data": {
      "text/plain": [
       "0.6624175641858729"
      ]
     },
     "execution_count": 15,
     "metadata": {},
     "output_type": "execute_result"
    }
   ],
   "source": [
    "fpr, tpr, thresholds = metrics.roc_curve(y_test, y_predrf2)\n",
    "aucrf2 = metrics.auc(fpr, tpr)\n",
    "aucrf2"
   ]
  },
  {
   "cell_type": "markdown",
   "id": "615b9be7",
   "metadata": {},
   "source": [
    "# Bagging Classifier"
   ]
  },
  {
   "cell_type": "markdown",
   "id": "435c9972",
   "metadata": {},
   "source": [
    "Regular Sklearn:"
   ]
  },
  {
   "cell_type": "code",
   "execution_count": 53,
   "id": "b1756f0d",
   "metadata": {},
   "outputs": [],
   "source": [
    "bc1 = BaggingClassifier()\n",
    "bc1.fit(X_train,y_train)\n",
    "y_predbc1=bc1.predict(X_test)"
   ]
  },
  {
   "cell_type": "code",
   "execution_count": 54,
   "id": "fcf1d4e2",
   "metadata": {},
   "outputs": [
    {
     "data": {
      "text/plain": [
       "array([[67494,    22],\n",
       "       [  923,    16]])"
      ]
     },
     "execution_count": 54,
     "metadata": {},
     "output_type": "execute_result"
    }
   ],
   "source": [
    "cm = confusion_matrix(y_test, y_predbc1)\n",
    "cm"
   ]
  },
  {
   "cell_type": "code",
   "execution_count": 55,
   "id": "42f54996",
   "metadata": {},
   "outputs": [],
   "source": [
    "fpr, tpr, thresholds = metrics.roc_curve(y_test, y_predbc1)"
   ]
  },
  {
   "cell_type": "code",
   "execution_count": 56,
   "id": "61233e10",
   "metadata": {},
   "outputs": [
    {
     "data": {
      "text/plain": [
       "0.5083567774665774"
      ]
     },
     "execution_count": 56,
     "metadata": {},
     "output_type": "execute_result"
    }
   ],
   "source": [
    "aucbc1 = metrics.auc(fpr, tpr)\n",
    "aucbc1"
   ]
  },
  {
   "cell_type": "markdown",
   "id": "75e664e4",
   "metadata": {},
   "source": [
    "Imbalanced learn:"
   ]
  },
  {
   "cell_type": "code",
   "execution_count": 16,
   "id": "0a1807a9",
   "metadata": {},
   "outputs": [],
   "source": [
    "bbc = BalancedBaggingClassifier()"
   ]
  },
  {
   "cell_type": "code",
   "execution_count": 17,
   "id": "a3eab724",
   "metadata": {},
   "outputs": [],
   "source": [
    "bbc.fit(X_train,y_train)\n",
    "y_pred=bbc.predict(X_test)"
   ]
  },
  {
   "cell_type": "code",
   "execution_count": 18,
   "id": "aeac5e27",
   "metadata": {},
   "outputs": [
    {
     "data": {
      "text/plain": [
       "array([[57408, 10089],\n",
       "       [  609,   349]])"
      ]
     },
     "execution_count": 18,
     "metadata": {},
     "output_type": "execute_result"
    }
   ],
   "source": [
    "cm = confusion_matrix(y_test, y_pred)\n",
    "cm"
   ]
  },
  {
   "cell_type": "code",
   "execution_count": 19,
   "id": "3d5cdbd0",
   "metadata": {},
   "outputs": [],
   "source": [
    "fpr, tpr, thresholds = metrics.roc_curve(y_test, y_pred)"
   ]
  },
  {
   "cell_type": "code",
   "execution_count": 20,
   "id": "4b791c48",
   "metadata": {},
   "outputs": [
    {
     "data": {
      "text/plain": [
       "0.6074136581899581"
      ]
     },
     "execution_count": 20,
     "metadata": {},
     "output_type": "execute_result"
    }
   ],
   "source": [
    "metrics.auc(fpr, tpr)"
   ]
  },
  {
   "cell_type": "markdown",
   "id": "c437f01d",
   "metadata": {},
   "source": [
    "# Gradient Boosting Classifier"
   ]
  },
  {
   "cell_type": "code",
   "execution_count": 14,
   "id": "7e2df012",
   "metadata": {},
   "outputs": [],
   "source": [
    "model = GradientBoostingClassifier()"
   ]
  },
  {
   "cell_type": "code",
   "execution_count": 15,
   "id": "47811bd9",
   "metadata": {},
   "outputs": [],
   "source": [
    "model.fit(X_train,y_train)\n",
    "y_pred=model.predict(X_test)"
   ]
  },
  {
   "cell_type": "code",
   "execution_count": 16,
   "id": "0dd0a00c",
   "metadata": {},
   "outputs": [
    {
     "data": {
      "text/plain": [
       "array([[67445,    71],\n",
       "       [  934,     5]])"
      ]
     },
     "execution_count": 16,
     "metadata": {},
     "output_type": "execute_result"
    }
   ],
   "source": [
    "cm = confusion_matrix(y_test, y_pred)\n",
    "cm"
   ]
  },
  {
   "cell_type": "code",
   "execution_count": 17,
   "id": "065d4b61",
   "metadata": {},
   "outputs": [],
   "source": [
    "fpr, tpr, thresholds = metrics.roc_curve(y_test, y_pred)"
   ]
  },
  {
   "cell_type": "code",
   "execution_count": 18,
   "id": "50feba02",
   "metadata": {},
   "outputs": [
    {
     "data": {
      "text/plain": [
       "0.5021366055242158"
      ]
     },
     "execution_count": 18,
     "metadata": {},
     "output_type": "execute_result"
    }
   ],
   "source": [
    "metrics.auc(fpr, tpr)"
   ]
  },
  {
   "cell_type": "markdown",
   "id": "af6df5d9",
   "metadata": {},
   "source": [
    "Imbalanced learn:"
   ]
  },
  {
   "cell_type": "code",
   "execution_count": 21,
   "id": "a0f3c74e",
   "metadata": {},
   "outputs": [],
   "source": [
    "brf = BalancedRandomForestClassifier()"
   ]
  },
  {
   "cell_type": "code",
   "execution_count": 22,
   "id": "b44a670a",
   "metadata": {},
   "outputs": [],
   "source": [
    "brf.fit(X_train,y_train)\n",
    "y_pred=brf.predict(X_test)"
   ]
  },
  {
   "cell_type": "code",
   "execution_count": 23,
   "id": "7c12109f",
   "metadata": {},
   "outputs": [
    {
     "data": {
      "text/plain": [
       "array([[48115, 19382],\n",
       "       [  388,   570]])"
      ]
     },
     "execution_count": 23,
     "metadata": {},
     "output_type": "execute_result"
    }
   ],
   "source": [
    "cm = confusion_matrix(y_test, y_pred)\n",
    "cm"
   ]
  },
  {
   "cell_type": "code",
   "execution_count": 24,
   "id": "a35c4856",
   "metadata": {},
   "outputs": [
    {
     "data": {
      "text/plain": [
       "0.6539180292339909"
      ]
     },
     "execution_count": 24,
     "metadata": {},
     "output_type": "execute_result"
    }
   ],
   "source": [
    "fpr, tpr, thresholds = metrics.roc_curve(y_test, y_pred)\n",
    "metrics.auc(fpr, tpr)"
   ]
  },
  {
   "cell_type": "code",
   "execution_count": null,
   "id": "be4ab0f7",
   "metadata": {},
   "outputs": [],
   "source": []
  },
  {
   "cell_type": "code",
   "execution_count": null,
   "id": "2cadb830",
   "metadata": {},
   "outputs": [],
   "source": []
  },
  {
   "cell_type": "code",
   "execution_count": null,
   "id": "3d871833",
   "metadata": {},
   "outputs": [],
   "source": []
  }
 ],
 "metadata": {
  "environment": {
   "name": "common-cpu.m75",
   "type": "gcloud",
   "uri": "gcr.io/deeplearning-platform-release/base-cpu:m75"
  },
  "kernelspec": {
   "display_name": "Python 3",
   "language": "python",
   "name": "python3"
  },
  "language_info": {
   "codemirror_mode": {
    "name": "ipython",
    "version": 3
   },
   "file_extension": ".py",
   "mimetype": "text/x-python",
   "name": "python",
   "nbconvert_exporter": "python",
   "pygments_lexer": "ipython3",
   "version": "3.7.10"
  }
 },
 "nbformat": 4,
 "nbformat_minor": 5
}
